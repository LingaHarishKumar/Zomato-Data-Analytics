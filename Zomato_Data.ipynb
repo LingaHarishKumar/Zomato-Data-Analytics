{
  "nbformat": 4,
  "nbformat_minor": 0,
  "metadata": {
    "colab": {
      "provenance": []
    },
    "kernelspec": {
      "name": "python3",
      "display_name": "Python 3"
    },
    "language_info": {
      "name": "python"
    }
  },
  "cells": [
    {
      "cell_type": "markdown",
      "source": [
        "**IMPORTING LIBARIES**"
      ],
      "metadata": {
        "id": "uklMT8oNltfb"
      }
    },
    {
      "cell_type": "code",
      "execution_count": 1,
      "metadata": {
        "id": "QOnzJiDYigs8"
      },
      "outputs": [],
      "source": [
        "import numpy as np\n",
        "import pandas as pd\n",
        "import seaborn as sns\n",
        "import matplotlib.pyplot as plt"
      ]
    },
    {
      "cell_type": "markdown",
      "source": [
        "**IMPORTING DATA**"
      ],
      "metadata": {
        "id": "C3aJif04lw7r"
      }
    },
    {
      "cell_type": "code",
      "source": [
        "data = pd.read_csv(\"/content/Zomato Chennai Listing 2020.csv\")"
      ],
      "metadata": {
        "id": "jjAz394GkDG3"
      },
      "execution_count": 2,
      "outputs": []
    },
    {
      "cell_type": "markdown",
      "source": [
        "**1ST 5 DATA**"
      ],
      "metadata": {
        "id": "xa5gF9c-l5k5"
      }
    },
    {
      "cell_type": "code",
      "source": [
        "data.head()"
      ],
      "metadata": {
        "colab": {
          "base_uri": "https://localhost:8080/",
          "height": 721
        },
        "id": "hi_uMUful2fJ",
        "outputId": "4734a66d-2b25-4ac1-ec0c-5c9e785fb43d"
      },
      "execution_count": 3,
      "outputs": [
        {
          "output_type": "execute_result",
          "data": {
            "text/plain": [
              "                                          Zomato URL     Name of Restaurant  \\\n",
              "0  https://www.zomato.com/chennai/yaa-mohaideen-b...  Yaa Mohaideen Briyani   \n",
              "1  https://www.zomato.com/chennai/sukkubhai-biriy...     Sukkubhai Biriyani   \n",
              "2  https://www.zomato.com/chennai/ss-hyderabad-bi...   SS Hyderabad Biryani   \n",
              "3        https://www.zomato.com/chennai/kfc-perambur                    KFC   \n",
              "4  https://www.zomato.com/chennai/tasty-kitchen-p...          Tasty Kitchen   \n",
              "\n",
              "                                             Address     Location  \\\n",
              "0          336 & 338, Main Road, Pallavaram, Chennai   Pallavaram   \n",
              "1   New 14, Old 11/3Q, Railway Station Road, MKN ...      Alandur   \n",
              "2   98/339, Arcot Road, Opposite Gokulam Chit Fun...  Kodambakkam   \n",
              "3   10, Periyar Nagar, 70 Feet Road, Near Sheeba ...     Perambur   \n",
              "4   135B, SRP Colony, Peravallur, Near Perambur, ...     Perambur   \n",
              "\n",
              "                                             Cuisine  \\\n",
              "0                                        ['Biryani']   \n",
              "1  ['Biryani', ' North Indian', ' Mughlai', ' Des...   \n",
              "2  ['Biryani', ' North Indian', ' Chinese', ' Ara...   \n",
              "3  ['Burger', ' Fast Food', ' Finger Food', ' Bev...   \n",
              "4  ['Chinese', ' Biryani', ' North Indian', ' Che...   \n",
              "\n",
              "                                          Top Dishes  Price for 2  \\\n",
              "0  ['Bread Halwa', ' Chicken 65', ' Mutton Biryan...        500.0   \n",
              "1  ['Beef Biryani', ' Beef Fry', ' Paratha', ' Pa...       1000.0   \n",
              "2  ['Brinjal Curry', ' Tandoori Chicken', ' Chick...        500.0   \n",
              "3                                  ['Zinger Burger']        500.0   \n",
              "4  ['Mutton Biryani', ' Chicken Rice', ' Tomato R...        450.0   \n",
              "\n",
              "  Dining Rating Dining Rating Count Delivery Rating Delivery Rating Count  \\\n",
              "0           4.3                1500             4.3                  9306   \n",
              "1           4.4                3059             4.1                 39200   \n",
              "2           4.3                1361             4.4                 10500   \n",
              "3           4.0                1101             4.0                 11200   \n",
              "4           4.2                 617             4.1                 22400   \n",
              "\n",
              "                                            Features  \n",
              "0                ['Home Delivery', 'Indoor Seating']  \n",
              "1  ['Home Delivery', 'Free Parking', 'Table booki...  \n",
              "2                ['Home Delivery', 'Indoor Seating']  \n",
              "3  ['Home Delivery', 'Free Parking', 'Card Upon D...  \n",
              "4                ['Home Delivery', 'Indoor Seating']  "
            ],
            "text/html": [
              "\n",
              "  <div id=\"df-ee550f85-6140-40fb-aaaa-60a4be9115e6\">\n",
              "    <div class=\"colab-df-container\">\n",
              "      <div>\n",
              "<style scoped>\n",
              "    .dataframe tbody tr th:only-of-type {\n",
              "        vertical-align: middle;\n",
              "    }\n",
              "\n",
              "    .dataframe tbody tr th {\n",
              "        vertical-align: top;\n",
              "    }\n",
              "\n",
              "    .dataframe thead th {\n",
              "        text-align: right;\n",
              "    }\n",
              "</style>\n",
              "<table border=\"1\" class=\"dataframe\">\n",
              "  <thead>\n",
              "    <tr style=\"text-align: right;\">\n",
              "      <th></th>\n",
              "      <th>Zomato URL</th>\n",
              "      <th>Name of Restaurant</th>\n",
              "      <th>Address</th>\n",
              "      <th>Location</th>\n",
              "      <th>Cuisine</th>\n",
              "      <th>Top Dishes</th>\n",
              "      <th>Price for 2</th>\n",
              "      <th>Dining Rating</th>\n",
              "      <th>Dining Rating Count</th>\n",
              "      <th>Delivery Rating</th>\n",
              "      <th>Delivery Rating Count</th>\n",
              "      <th>Features</th>\n",
              "    </tr>\n",
              "  </thead>\n",
              "  <tbody>\n",
              "    <tr>\n",
              "      <th>0</th>\n",
              "      <td>https://www.zomato.com/chennai/yaa-mohaideen-b...</td>\n",
              "      <td>Yaa Mohaideen Briyani</td>\n",
              "      <td>336 &amp; 338, Main Road, Pallavaram, Chennai</td>\n",
              "      <td>Pallavaram</td>\n",
              "      <td>['Biryani']</td>\n",
              "      <td>['Bread Halwa', ' Chicken 65', ' Mutton Biryan...</td>\n",
              "      <td>500.0</td>\n",
              "      <td>4.3</td>\n",
              "      <td>1500</td>\n",
              "      <td>4.3</td>\n",
              "      <td>9306</td>\n",
              "      <td>['Home Delivery', 'Indoor Seating']</td>\n",
              "    </tr>\n",
              "    <tr>\n",
              "      <th>1</th>\n",
              "      <td>https://www.zomato.com/chennai/sukkubhai-biriy...</td>\n",
              "      <td>Sukkubhai Biriyani</td>\n",
              "      <td>New 14, Old 11/3Q, Railway Station Road, MKN ...</td>\n",
              "      <td>Alandur</td>\n",
              "      <td>['Biryani', ' North Indian', ' Mughlai', ' Des...</td>\n",
              "      <td>['Beef Biryani', ' Beef Fry', ' Paratha', ' Pa...</td>\n",
              "      <td>1000.0</td>\n",
              "      <td>4.4</td>\n",
              "      <td>3059</td>\n",
              "      <td>4.1</td>\n",
              "      <td>39200</td>\n",
              "      <td>['Home Delivery', 'Free Parking', 'Table booki...</td>\n",
              "    </tr>\n",
              "    <tr>\n",
              "      <th>2</th>\n",
              "      <td>https://www.zomato.com/chennai/ss-hyderabad-bi...</td>\n",
              "      <td>SS Hyderabad Biryani</td>\n",
              "      <td>98/339, Arcot Road, Opposite Gokulam Chit Fun...</td>\n",
              "      <td>Kodambakkam</td>\n",
              "      <td>['Biryani', ' North Indian', ' Chinese', ' Ara...</td>\n",
              "      <td>['Brinjal Curry', ' Tandoori Chicken', ' Chick...</td>\n",
              "      <td>500.0</td>\n",
              "      <td>4.3</td>\n",
              "      <td>1361</td>\n",
              "      <td>4.4</td>\n",
              "      <td>10500</td>\n",
              "      <td>['Home Delivery', 'Indoor Seating']</td>\n",
              "    </tr>\n",
              "    <tr>\n",
              "      <th>3</th>\n",
              "      <td>https://www.zomato.com/chennai/kfc-perambur</td>\n",
              "      <td>KFC</td>\n",
              "      <td>10, Periyar Nagar, 70 Feet Road, Near Sheeba ...</td>\n",
              "      <td>Perambur</td>\n",
              "      <td>['Burger', ' Fast Food', ' Finger Food', ' Bev...</td>\n",
              "      <td>['Zinger Burger']</td>\n",
              "      <td>500.0</td>\n",
              "      <td>4.0</td>\n",
              "      <td>1101</td>\n",
              "      <td>4.0</td>\n",
              "      <td>11200</td>\n",
              "      <td>['Home Delivery', 'Free Parking', 'Card Upon D...</td>\n",
              "    </tr>\n",
              "    <tr>\n",
              "      <th>4</th>\n",
              "      <td>https://www.zomato.com/chennai/tasty-kitchen-p...</td>\n",
              "      <td>Tasty Kitchen</td>\n",
              "      <td>135B, SRP Colony, Peravallur, Near Perambur, ...</td>\n",
              "      <td>Perambur</td>\n",
              "      <td>['Chinese', ' Biryani', ' North Indian', ' Che...</td>\n",
              "      <td>['Mutton Biryani', ' Chicken Rice', ' Tomato R...</td>\n",
              "      <td>450.0</td>\n",
              "      <td>4.2</td>\n",
              "      <td>617</td>\n",
              "      <td>4.1</td>\n",
              "      <td>22400</td>\n",
              "      <td>['Home Delivery', 'Indoor Seating']</td>\n",
              "    </tr>\n",
              "  </tbody>\n",
              "</table>\n",
              "</div>\n",
              "      <button class=\"colab-df-convert\" onclick=\"convertToInteractive('df-ee550f85-6140-40fb-aaaa-60a4be9115e6')\"\n",
              "              title=\"Convert this dataframe to an interactive table.\"\n",
              "              style=\"display:none;\">\n",
              "        \n",
              "  <svg xmlns=\"http://www.w3.org/2000/svg\" height=\"24px\"viewBox=\"0 0 24 24\"\n",
              "       width=\"24px\">\n",
              "    <path d=\"M0 0h24v24H0V0z\" fill=\"none\"/>\n",
              "    <path d=\"M18.56 5.44l.94 2.06.94-2.06 2.06-.94-2.06-.94-.94-2.06-.94 2.06-2.06.94zm-11 1L8.5 8.5l.94-2.06 2.06-.94-2.06-.94L8.5 2.5l-.94 2.06-2.06.94zm10 10l.94 2.06.94-2.06 2.06-.94-2.06-.94-.94-2.06-.94 2.06-2.06.94z\"/><path d=\"M17.41 7.96l-1.37-1.37c-.4-.4-.92-.59-1.43-.59-.52 0-1.04.2-1.43.59L10.3 9.45l-7.72 7.72c-.78.78-.78 2.05 0 2.83L4 21.41c.39.39.9.59 1.41.59.51 0 1.02-.2 1.41-.59l7.78-7.78 2.81-2.81c.8-.78.8-2.07 0-2.86zM5.41 20L4 18.59l7.72-7.72 1.47 1.35L5.41 20z\"/>\n",
              "  </svg>\n",
              "      </button>\n",
              "      \n",
              "  <style>\n",
              "    .colab-df-container {\n",
              "      display:flex;\n",
              "      flex-wrap:wrap;\n",
              "      gap: 12px;\n",
              "    }\n",
              "\n",
              "    .colab-df-convert {\n",
              "      background-color: #E8F0FE;\n",
              "      border: none;\n",
              "      border-radius: 50%;\n",
              "      cursor: pointer;\n",
              "      display: none;\n",
              "      fill: #1967D2;\n",
              "      height: 32px;\n",
              "      padding: 0 0 0 0;\n",
              "      width: 32px;\n",
              "    }\n",
              "\n",
              "    .colab-df-convert:hover {\n",
              "      background-color: #E2EBFA;\n",
              "      box-shadow: 0px 1px 2px rgba(60, 64, 67, 0.3), 0px 1px 3px 1px rgba(60, 64, 67, 0.15);\n",
              "      fill: #174EA6;\n",
              "    }\n",
              "\n",
              "    [theme=dark] .colab-df-convert {\n",
              "      background-color: #3B4455;\n",
              "      fill: #D2E3FC;\n",
              "    }\n",
              "\n",
              "    [theme=dark] .colab-df-convert:hover {\n",
              "      background-color: #434B5C;\n",
              "      box-shadow: 0px 1px 3px 1px rgba(0, 0, 0, 0.15);\n",
              "      filter: drop-shadow(0px 1px 2px rgba(0, 0, 0, 0.3));\n",
              "      fill: #FFFFFF;\n",
              "    }\n",
              "  </style>\n",
              "\n",
              "      <script>\n",
              "        const buttonEl =\n",
              "          document.querySelector('#df-ee550f85-6140-40fb-aaaa-60a4be9115e6 button.colab-df-convert');\n",
              "        buttonEl.style.display =\n",
              "          google.colab.kernel.accessAllowed ? 'block' : 'none';\n",
              "\n",
              "        async function convertToInteractive(key) {\n",
              "          const element = document.querySelector('#df-ee550f85-6140-40fb-aaaa-60a4be9115e6');\n",
              "          const dataTable =\n",
              "            await google.colab.kernel.invokeFunction('convertToInteractive',\n",
              "                                                     [key], {});\n",
              "          if (!dataTable) return;\n",
              "\n",
              "          const docLinkHtml = 'Like what you see? Visit the ' +\n",
              "            '<a target=\"_blank\" href=https://colab.research.google.com/notebooks/data_table.ipynb>data table notebook</a>'\n",
              "            + ' to learn more about interactive tables.';\n",
              "          element.innerHTML = '';\n",
              "          dataTable['output_type'] = 'display_data';\n",
              "          await google.colab.output.renderOutput(dataTable, element);\n",
              "          const docLink = document.createElement('div');\n",
              "          docLink.innerHTML = docLinkHtml;\n",
              "          element.appendChild(docLink);\n",
              "        }\n",
              "      </script>\n",
              "    </div>\n",
              "  </div>\n",
              "  "
            ]
          },
          "metadata": {},
          "execution_count": 3
        }
      ]
    },
    {
      "cell_type": "markdown",
      "source": [
        "**ROWS AND COLUMN OF DATASET**"
      ],
      "metadata": {
        "id": "FFKLrX97mEhQ"
      }
    },
    {
      "cell_type": "code",
      "source": [
        "data.shape"
      ],
      "metadata": {
        "colab": {
          "base_uri": "https://localhost:8080/"
        },
        "id": "-Kj57fInmK_c",
        "outputId": "4d5b0b85-c467-49ae-fb93-ee72f46aca4d"
      },
      "execution_count": 4,
      "outputs": [
        {
          "output_type": "execute_result",
          "data": {
            "text/plain": [
              "(12032, 12)"
            ]
          },
          "metadata": {},
          "execution_count": 4
        }
      ]
    },
    {
      "cell_type": "markdown",
      "source": [
        "We have 12032 rows and 12 columns"
      ],
      "metadata": {
        "id": "qUCbPbldmbQA"
      }
    },
    {
      "cell_type": "markdown",
      "source": [
        "**STATISTICS MEASURES OF DATA**"
      ],
      "metadata": {
        "id": "A7q_rbOimhnR"
      }
    },
    {
      "cell_type": "code",
      "source": [
        "data.describe()"
      ],
      "metadata": {
        "colab": {
          "base_uri": "https://localhost:8080/",
          "height": 300
        },
        "id": "MxXdFDgTmg2H",
        "outputId": "c445137e-9c8d-4faf-b92d-d9a66c2bae81"
      },
      "execution_count": 5,
      "outputs": [
        {
          "output_type": "execute_result",
          "data": {
            "text/plain": [
              "        Price for 2\n",
              "count  12032.000000\n",
              "mean     397.611370\n",
              "std      332.045938\n",
              "min       40.000000\n",
              "25%      200.000000\n",
              "50%      300.000000\n",
              "75%      450.000000\n",
              "max     5000.000000"
            ],
            "text/html": [
              "\n",
              "  <div id=\"df-9703a41a-f08a-4f96-9bbd-86f7c202943e\">\n",
              "    <div class=\"colab-df-container\">\n",
              "      <div>\n",
              "<style scoped>\n",
              "    .dataframe tbody tr th:only-of-type {\n",
              "        vertical-align: middle;\n",
              "    }\n",
              "\n",
              "    .dataframe tbody tr th {\n",
              "        vertical-align: top;\n",
              "    }\n",
              "\n",
              "    .dataframe thead th {\n",
              "        text-align: right;\n",
              "    }\n",
              "</style>\n",
              "<table border=\"1\" class=\"dataframe\">\n",
              "  <thead>\n",
              "    <tr style=\"text-align: right;\">\n",
              "      <th></th>\n",
              "      <th>Price for 2</th>\n",
              "    </tr>\n",
              "  </thead>\n",
              "  <tbody>\n",
              "    <tr>\n",
              "      <th>count</th>\n",
              "      <td>12032.000000</td>\n",
              "    </tr>\n",
              "    <tr>\n",
              "      <th>mean</th>\n",
              "      <td>397.611370</td>\n",
              "    </tr>\n",
              "    <tr>\n",
              "      <th>std</th>\n",
              "      <td>332.045938</td>\n",
              "    </tr>\n",
              "    <tr>\n",
              "      <th>min</th>\n",
              "      <td>40.000000</td>\n",
              "    </tr>\n",
              "    <tr>\n",
              "      <th>25%</th>\n",
              "      <td>200.000000</td>\n",
              "    </tr>\n",
              "    <tr>\n",
              "      <th>50%</th>\n",
              "      <td>300.000000</td>\n",
              "    </tr>\n",
              "    <tr>\n",
              "      <th>75%</th>\n",
              "      <td>450.000000</td>\n",
              "    </tr>\n",
              "    <tr>\n",
              "      <th>max</th>\n",
              "      <td>5000.000000</td>\n",
              "    </tr>\n",
              "  </tbody>\n",
              "</table>\n",
              "</div>\n",
              "      <button class=\"colab-df-convert\" onclick=\"convertToInteractive('df-9703a41a-f08a-4f96-9bbd-86f7c202943e')\"\n",
              "              title=\"Convert this dataframe to an interactive table.\"\n",
              "              style=\"display:none;\">\n",
              "        \n",
              "  <svg xmlns=\"http://www.w3.org/2000/svg\" height=\"24px\"viewBox=\"0 0 24 24\"\n",
              "       width=\"24px\">\n",
              "    <path d=\"M0 0h24v24H0V0z\" fill=\"none\"/>\n",
              "    <path d=\"M18.56 5.44l.94 2.06.94-2.06 2.06-.94-2.06-.94-.94-2.06-.94 2.06-2.06.94zm-11 1L8.5 8.5l.94-2.06 2.06-.94-2.06-.94L8.5 2.5l-.94 2.06-2.06.94zm10 10l.94 2.06.94-2.06 2.06-.94-2.06-.94-.94-2.06-.94 2.06-2.06.94z\"/><path d=\"M17.41 7.96l-1.37-1.37c-.4-.4-.92-.59-1.43-.59-.52 0-1.04.2-1.43.59L10.3 9.45l-7.72 7.72c-.78.78-.78 2.05 0 2.83L4 21.41c.39.39.9.59 1.41.59.51 0 1.02-.2 1.41-.59l7.78-7.78 2.81-2.81c.8-.78.8-2.07 0-2.86zM5.41 20L4 18.59l7.72-7.72 1.47 1.35L5.41 20z\"/>\n",
              "  </svg>\n",
              "      </button>\n",
              "      \n",
              "  <style>\n",
              "    .colab-df-container {\n",
              "      display:flex;\n",
              "      flex-wrap:wrap;\n",
              "      gap: 12px;\n",
              "    }\n",
              "\n",
              "    .colab-df-convert {\n",
              "      background-color: #E8F0FE;\n",
              "      border: none;\n",
              "      border-radius: 50%;\n",
              "      cursor: pointer;\n",
              "      display: none;\n",
              "      fill: #1967D2;\n",
              "      height: 32px;\n",
              "      padding: 0 0 0 0;\n",
              "      width: 32px;\n",
              "    }\n",
              "\n",
              "    .colab-df-convert:hover {\n",
              "      background-color: #E2EBFA;\n",
              "      box-shadow: 0px 1px 2px rgba(60, 64, 67, 0.3), 0px 1px 3px 1px rgba(60, 64, 67, 0.15);\n",
              "      fill: #174EA6;\n",
              "    }\n",
              "\n",
              "    [theme=dark] .colab-df-convert {\n",
              "      background-color: #3B4455;\n",
              "      fill: #D2E3FC;\n",
              "    }\n",
              "\n",
              "    [theme=dark] .colab-df-convert:hover {\n",
              "      background-color: #434B5C;\n",
              "      box-shadow: 0px 1px 3px 1px rgba(0, 0, 0, 0.15);\n",
              "      filter: drop-shadow(0px 1px 2px rgba(0, 0, 0, 0.3));\n",
              "      fill: #FFFFFF;\n",
              "    }\n",
              "  </style>\n",
              "\n",
              "      <script>\n",
              "        const buttonEl =\n",
              "          document.querySelector('#df-9703a41a-f08a-4f96-9bbd-86f7c202943e button.colab-df-convert');\n",
              "        buttonEl.style.display =\n",
              "          google.colab.kernel.accessAllowed ? 'block' : 'none';\n",
              "\n",
              "        async function convertToInteractive(key) {\n",
              "          const element = document.querySelector('#df-9703a41a-f08a-4f96-9bbd-86f7c202943e');\n",
              "          const dataTable =\n",
              "            await google.colab.kernel.invokeFunction('convertToInteractive',\n",
              "                                                     [key], {});\n",
              "          if (!dataTable) return;\n",
              "\n",
              "          const docLinkHtml = 'Like what you see? Visit the ' +\n",
              "            '<a target=\"_blank\" href=https://colab.research.google.com/notebooks/data_table.ipynb>data table notebook</a>'\n",
              "            + ' to learn more about interactive tables.';\n",
              "          element.innerHTML = '';\n",
              "          dataTable['output_type'] = 'display_data';\n",
              "          await google.colab.output.renderOutput(dataTable, element);\n",
              "          const docLink = document.createElement('div');\n",
              "          docLink.innerHTML = docLinkHtml;\n",
              "          element.appendChild(docLink);\n",
              "        }\n",
              "      </script>\n",
              "    </div>\n",
              "  </div>\n",
              "  "
            ]
          },
          "metadata": {},
          "execution_count": 5
        }
      ]
    },
    {
      "cell_type": "markdown",
      "source": [
        "**INFO OF THE DATASET**"
      ],
      "metadata": {
        "id": "g1C3uQQnH4tB"
      }
    },
    {
      "cell_type": "code",
      "source": [
        "data.info()"
      ],
      "metadata": {
        "colab": {
          "base_uri": "https://localhost:8080/"
        },
        "id": "sY4W2H_3H7Fh",
        "outputId": "cf17dba1-132e-49e2-ec96-0a5ca4006b92"
      },
      "execution_count": 6,
      "outputs": [
        {
          "output_type": "stream",
          "name": "stdout",
          "text": [
            "<class 'pandas.core.frame.DataFrame'>\n",
            "RangeIndex: 12032 entries, 0 to 12031\n",
            "Data columns (total 12 columns):\n",
            " #   Column                 Non-Null Count  Dtype  \n",
            "---  ------                 --------------  -----  \n",
            " 0   Zomato URL             12032 non-null  object \n",
            " 1   Name of Restaurant     12032 non-null  object \n",
            " 2   Address                12032 non-null  object \n",
            " 3   Location               12032 non-null  object \n",
            " 4   Cuisine                12032 non-null  object \n",
            " 5   Top Dishes             12032 non-null  object \n",
            " 6   Price for 2            12032 non-null  float64\n",
            " 7   Dining Rating          12032 non-null  object \n",
            " 8   Dining Rating Count    12032 non-null  object \n",
            " 9   Delivery Rating        12032 non-null  object \n",
            " 10  Delivery Rating Count  12032 non-null  object \n",
            " 11  Features               12032 non-null  object \n",
            "dtypes: float64(1), object(11)\n",
            "memory usage: 1.1+ MB\n"
          ]
        }
      ]
    },
    {
      "cell_type": "markdown",
      "source": [
        "**CHANGING THE DATATYPE**"
      ],
      "metadata": {
        "id": "Kmhly9Qqfy96"
      }
    },
    {
      "cell_type": "code",
      "source": [
        "data['Price for 2'] = data['Price for 2'].astype('int64')"
      ],
      "metadata": {
        "id": "1lA2uP1Bd0i-"
      },
      "execution_count": 7,
      "outputs": []
    },
    {
      "cell_type": "code",
      "source": [
        "data.iloc[np.where(data['Dining Rating'] == 'None')]"
      ],
      "metadata": {
        "colab": {
          "base_uri": "https://localhost:8080/",
          "height": 1000
        },
        "id": "5bLrFqzImo0U",
        "outputId": "f61031e4-f193-469a-eb75-600aa7b76573"
      },
      "execution_count": 8,
      "outputs": [
        {
          "output_type": "execute_result",
          "data": {
            "text/plain": [
              "                                              Zomato URL  \\\n",
              "6      https://www.zomato.com/chennai/bai-veetu-kalya...   \n",
              "77     https://www.zomato.com/chennai/al-dhareeq-beef...   \n",
              "106    https://www.zomato.com/chennai/twilight-take-o...   \n",
              "107    https://www.zomato.com/chennai/the-red-box-ann...   \n",
              "114    https://www.zomato.com/chennai/charminar-biriy...   \n",
              "...                                                  ...   \n",
              "12027  https://www.zomato.com/chennai/cks-sandwiches-...   \n",
              "12028  https://www.zomato.com/chennai/cks-sandwiches-...   \n",
              "12029  https://www.zomato.com/chennai/cks-sandwiches-...   \n",
              "12030  https://www.zomato.com/chennai/cks-sandwiches-...   \n",
              "12031  https://www.zomato.com/chennai/cks-sandwiches-...   \n",
              "\n",
              "              Name of Restaurant  \\\n",
              "6             Bai Veetu Kalyanam   \n",
              "77      Al Dhareeq Beef Biriyani   \n",
              "106            Twilight Take Out   \n",
              "107                  The Red Box   \n",
              "114    Charminar Biriyani Centre   \n",
              "...                          ...   \n",
              "12027            CK's Sandwiches   \n",
              "12028            CK's Sandwiches   \n",
              "12029            CK's Sandwiches   \n",
              "12030            CK's Sandwiches   \n",
              "12031            CK's Sandwiches   \n",
              "\n",
              "                                                 Address         Location  \\\n",
              "6               1/187, Thalambur Road, Navallur, Chennai         Navallur   \n",
              "77      64/A, 162, Sivan Kovil South Street, Kodambak...      Kodambakkam   \n",
              "106     1, Park Side Street, Lake Area, Nungambakkam,...     Nungambakkam   \n",
              "107     Flat 51/C, Shanthi Colony Main Road, Anna Nag...  Anna Nagar West   \n",
              "114     91, Dr. Besant Road, Near Meesapet Market, Ro...       Royapettah   \n",
              "...                                                  ...              ...   \n",
              "12027                                      Delivery Only            Porur   \n",
              "12028                                      Delivery Only         Kolathur   \n",
              "12029                                      Delivery Only  Anna Nagar East   \n",
              "12030                                      Delivery Only        Ramapuram   \n",
              "12031                                      Delivery Only   Sholinganallur   \n",
              "\n",
              "                                                 Cuisine  \\\n",
              "6                                            ['Biryani']   \n",
              "77                                           ['Biryani']   \n",
              "106    ['North Indian', ' Chinese', ' Rolls', ' Conti...   \n",
              "107                                          ['Chinese']   \n",
              "114                         ['Biryani', ' North Indian']   \n",
              "...                                                  ...   \n",
              "12027                                       ['Sandwich']   \n",
              "12028                                       ['Sandwich']   \n",
              "12029                                       ['Sandwich']   \n",
              "12030                                       ['Sandwich']   \n",
              "12031                                       ['Sandwich']   \n",
              "\n",
              "                                              Top Dishes  Price for 2  \\\n",
              "6      ['Bread Halwa', ' Mutton Biryani', ' Brinjal G...          350   \n",
              "77                                      ['Beef Biryani']          300   \n",
              "106    ['Club Sandwich', ' Chicken Tikka Roll', ' Chi...          350   \n",
              "107    ['Noodle', ' Chilli Chicken Gravy', ' Dragon C...          200   \n",
              "114    ['Chicken Biryani', ' Bread Halwa', ' Brinjal ...          300   \n",
              "...                                                  ...          ...   \n",
              "12027                                            Invalid          350   \n",
              "12028                                            Invalid          350   \n",
              "12029                                            Invalid          350   \n",
              "12030                                            Invalid          350   \n",
              "12031                                            Invalid          350   \n",
              "\n",
              "      Dining Rating    Dining Rating Count Delivery Rating  \\\n",
              "6              None  Does not offer Dining             4.3   \n",
              "77             None  Does not offer Dining             3.9   \n",
              "106            None  Does not offer Dining             4.0   \n",
              "107            None  Does not offer Dining             4.2   \n",
              "114            None  Does not offer Dining             3.9   \n",
              "...             ...                    ...             ...   \n",
              "12027          None                   None            None   \n",
              "12028          None                   None            None   \n",
              "12029          None                   None            None   \n",
              "12030          None                   None            None   \n",
              "12031          None                   None            None   \n",
              "\n",
              "      Delivery Rating Count                              Features  \n",
              "6                      1061                     ['Home Delivery']  \n",
              "77                    19600                     ['Home Delivery']  \n",
              "106                   11200     ['Home Delivery', 'Free Parking']  \n",
              "107                   11500                     ['Home Delivery']  \n",
              "114                     652  ['Home Delivery', 'Standing Tables']  \n",
              "...                     ...                                   ...  \n",
              "12027                  None        ['Breakfast', 'Delivery Only']  \n",
              "12028                  None        ['Breakfast', 'Delivery Only']  \n",
              "12029                  None        ['Breakfast', 'Delivery Only']  \n",
              "12030                  None        ['Breakfast', 'Delivery Only']  \n",
              "12031                  None        ['Breakfast', 'Delivery Only']  \n",
              "\n",
              "[5351 rows x 12 columns]"
            ],
            "text/html": [
              "\n",
              "  <div id=\"df-b4674420-a125-4ffb-991f-7adc434d4df1\">\n",
              "    <div class=\"colab-df-container\">\n",
              "      <div>\n",
              "<style scoped>\n",
              "    .dataframe tbody tr th:only-of-type {\n",
              "        vertical-align: middle;\n",
              "    }\n",
              "\n",
              "    .dataframe tbody tr th {\n",
              "        vertical-align: top;\n",
              "    }\n",
              "\n",
              "    .dataframe thead th {\n",
              "        text-align: right;\n",
              "    }\n",
              "</style>\n",
              "<table border=\"1\" class=\"dataframe\">\n",
              "  <thead>\n",
              "    <tr style=\"text-align: right;\">\n",
              "      <th></th>\n",
              "      <th>Zomato URL</th>\n",
              "      <th>Name of Restaurant</th>\n",
              "      <th>Address</th>\n",
              "      <th>Location</th>\n",
              "      <th>Cuisine</th>\n",
              "      <th>Top Dishes</th>\n",
              "      <th>Price for 2</th>\n",
              "      <th>Dining Rating</th>\n",
              "      <th>Dining Rating Count</th>\n",
              "      <th>Delivery Rating</th>\n",
              "      <th>Delivery Rating Count</th>\n",
              "      <th>Features</th>\n",
              "    </tr>\n",
              "  </thead>\n",
              "  <tbody>\n",
              "    <tr>\n",
              "      <th>6</th>\n",
              "      <td>https://www.zomato.com/chennai/bai-veetu-kalya...</td>\n",
              "      <td>Bai Veetu Kalyanam</td>\n",
              "      <td>1/187, Thalambur Road, Navallur, Chennai</td>\n",
              "      <td>Navallur</td>\n",
              "      <td>['Biryani']</td>\n",
              "      <td>['Bread Halwa', ' Mutton Biryani', ' Brinjal G...</td>\n",
              "      <td>350</td>\n",
              "      <td>None</td>\n",
              "      <td>Does not offer Dining</td>\n",
              "      <td>4.3</td>\n",
              "      <td>1061</td>\n",
              "      <td>['Home Delivery']</td>\n",
              "    </tr>\n",
              "    <tr>\n",
              "      <th>77</th>\n",
              "      <td>https://www.zomato.com/chennai/al-dhareeq-beef...</td>\n",
              "      <td>Al Dhareeq Beef Biriyani</td>\n",
              "      <td>64/A, 162, Sivan Kovil South Street, Kodambak...</td>\n",
              "      <td>Kodambakkam</td>\n",
              "      <td>['Biryani']</td>\n",
              "      <td>['Beef Biryani']</td>\n",
              "      <td>300</td>\n",
              "      <td>None</td>\n",
              "      <td>Does not offer Dining</td>\n",
              "      <td>3.9</td>\n",
              "      <td>19600</td>\n",
              "      <td>['Home Delivery']</td>\n",
              "    </tr>\n",
              "    <tr>\n",
              "      <th>106</th>\n",
              "      <td>https://www.zomato.com/chennai/twilight-take-o...</td>\n",
              "      <td>Twilight Take Out</td>\n",
              "      <td>1, Park Side Street, Lake Area, Nungambakkam,...</td>\n",
              "      <td>Nungambakkam</td>\n",
              "      <td>['North Indian', ' Chinese', ' Rolls', ' Conti...</td>\n",
              "      <td>['Club Sandwich', ' Chicken Tikka Roll', ' Chi...</td>\n",
              "      <td>350</td>\n",
              "      <td>None</td>\n",
              "      <td>Does not offer Dining</td>\n",
              "      <td>4.0</td>\n",
              "      <td>11200</td>\n",
              "      <td>['Home Delivery', 'Free Parking']</td>\n",
              "    </tr>\n",
              "    <tr>\n",
              "      <th>107</th>\n",
              "      <td>https://www.zomato.com/chennai/the-red-box-ann...</td>\n",
              "      <td>The Red Box</td>\n",
              "      <td>Flat 51/C, Shanthi Colony Main Road, Anna Nag...</td>\n",
              "      <td>Anna Nagar West</td>\n",
              "      <td>['Chinese']</td>\n",
              "      <td>['Noodle', ' Chilli Chicken Gravy', ' Dragon C...</td>\n",
              "      <td>200</td>\n",
              "      <td>None</td>\n",
              "      <td>Does not offer Dining</td>\n",
              "      <td>4.2</td>\n",
              "      <td>11500</td>\n",
              "      <td>['Home Delivery']</td>\n",
              "    </tr>\n",
              "    <tr>\n",
              "      <th>114</th>\n",
              "      <td>https://www.zomato.com/chennai/charminar-biriy...</td>\n",
              "      <td>Charminar Biriyani Centre</td>\n",
              "      <td>91, Dr. Besant Road, Near Meesapet Market, Ro...</td>\n",
              "      <td>Royapettah</td>\n",
              "      <td>['Biryani', ' North Indian']</td>\n",
              "      <td>['Chicken Biryani', ' Bread Halwa', ' Brinjal ...</td>\n",
              "      <td>300</td>\n",
              "      <td>None</td>\n",
              "      <td>Does not offer Dining</td>\n",
              "      <td>3.9</td>\n",
              "      <td>652</td>\n",
              "      <td>['Home Delivery', 'Standing Tables']</td>\n",
              "    </tr>\n",
              "    <tr>\n",
              "      <th>...</th>\n",
              "      <td>...</td>\n",
              "      <td>...</td>\n",
              "      <td>...</td>\n",
              "      <td>...</td>\n",
              "      <td>...</td>\n",
              "      <td>...</td>\n",
              "      <td>...</td>\n",
              "      <td>...</td>\n",
              "      <td>...</td>\n",
              "      <td>...</td>\n",
              "      <td>...</td>\n",
              "      <td>...</td>\n",
              "    </tr>\n",
              "    <tr>\n",
              "      <th>12027</th>\n",
              "      <td>https://www.zomato.com/chennai/cks-sandwiches-...</td>\n",
              "      <td>CK's Sandwiches</td>\n",
              "      <td>Delivery Only</td>\n",
              "      <td>Porur</td>\n",
              "      <td>['Sandwich']</td>\n",
              "      <td>Invalid</td>\n",
              "      <td>350</td>\n",
              "      <td>None</td>\n",
              "      <td>None</td>\n",
              "      <td>None</td>\n",
              "      <td>None</td>\n",
              "      <td>['Breakfast', 'Delivery Only']</td>\n",
              "    </tr>\n",
              "    <tr>\n",
              "      <th>12028</th>\n",
              "      <td>https://www.zomato.com/chennai/cks-sandwiches-...</td>\n",
              "      <td>CK's Sandwiches</td>\n",
              "      <td>Delivery Only</td>\n",
              "      <td>Kolathur</td>\n",
              "      <td>['Sandwich']</td>\n",
              "      <td>Invalid</td>\n",
              "      <td>350</td>\n",
              "      <td>None</td>\n",
              "      <td>None</td>\n",
              "      <td>None</td>\n",
              "      <td>None</td>\n",
              "      <td>['Breakfast', 'Delivery Only']</td>\n",
              "    </tr>\n",
              "    <tr>\n",
              "      <th>12029</th>\n",
              "      <td>https://www.zomato.com/chennai/cks-sandwiches-...</td>\n",
              "      <td>CK's Sandwiches</td>\n",
              "      <td>Delivery Only</td>\n",
              "      <td>Anna Nagar East</td>\n",
              "      <td>['Sandwich']</td>\n",
              "      <td>Invalid</td>\n",
              "      <td>350</td>\n",
              "      <td>None</td>\n",
              "      <td>None</td>\n",
              "      <td>None</td>\n",
              "      <td>None</td>\n",
              "      <td>['Breakfast', 'Delivery Only']</td>\n",
              "    </tr>\n",
              "    <tr>\n",
              "      <th>12030</th>\n",
              "      <td>https://www.zomato.com/chennai/cks-sandwiches-...</td>\n",
              "      <td>CK's Sandwiches</td>\n",
              "      <td>Delivery Only</td>\n",
              "      <td>Ramapuram</td>\n",
              "      <td>['Sandwich']</td>\n",
              "      <td>Invalid</td>\n",
              "      <td>350</td>\n",
              "      <td>None</td>\n",
              "      <td>None</td>\n",
              "      <td>None</td>\n",
              "      <td>None</td>\n",
              "      <td>['Breakfast', 'Delivery Only']</td>\n",
              "    </tr>\n",
              "    <tr>\n",
              "      <th>12031</th>\n",
              "      <td>https://www.zomato.com/chennai/cks-sandwiches-...</td>\n",
              "      <td>CK's Sandwiches</td>\n",
              "      <td>Delivery Only</td>\n",
              "      <td>Sholinganallur</td>\n",
              "      <td>['Sandwich']</td>\n",
              "      <td>Invalid</td>\n",
              "      <td>350</td>\n",
              "      <td>None</td>\n",
              "      <td>None</td>\n",
              "      <td>None</td>\n",
              "      <td>None</td>\n",
              "      <td>['Breakfast', 'Delivery Only']</td>\n",
              "    </tr>\n",
              "  </tbody>\n",
              "</table>\n",
              "<p>5351 rows × 12 columns</p>\n",
              "</div>\n",
              "      <button class=\"colab-df-convert\" onclick=\"convertToInteractive('df-b4674420-a125-4ffb-991f-7adc434d4df1')\"\n",
              "              title=\"Convert this dataframe to an interactive table.\"\n",
              "              style=\"display:none;\">\n",
              "        \n",
              "  <svg xmlns=\"http://www.w3.org/2000/svg\" height=\"24px\"viewBox=\"0 0 24 24\"\n",
              "       width=\"24px\">\n",
              "    <path d=\"M0 0h24v24H0V0z\" fill=\"none\"/>\n",
              "    <path d=\"M18.56 5.44l.94 2.06.94-2.06 2.06-.94-2.06-.94-.94-2.06-.94 2.06-2.06.94zm-11 1L8.5 8.5l.94-2.06 2.06-.94-2.06-.94L8.5 2.5l-.94 2.06-2.06.94zm10 10l.94 2.06.94-2.06 2.06-.94-2.06-.94-.94-2.06-.94 2.06-2.06.94z\"/><path d=\"M17.41 7.96l-1.37-1.37c-.4-.4-.92-.59-1.43-.59-.52 0-1.04.2-1.43.59L10.3 9.45l-7.72 7.72c-.78.78-.78 2.05 0 2.83L4 21.41c.39.39.9.59 1.41.59.51 0 1.02-.2 1.41-.59l7.78-7.78 2.81-2.81c.8-.78.8-2.07 0-2.86zM5.41 20L4 18.59l7.72-7.72 1.47 1.35L5.41 20z\"/>\n",
              "  </svg>\n",
              "      </button>\n",
              "      \n",
              "  <style>\n",
              "    .colab-df-container {\n",
              "      display:flex;\n",
              "      flex-wrap:wrap;\n",
              "      gap: 12px;\n",
              "    }\n",
              "\n",
              "    .colab-df-convert {\n",
              "      background-color: #E8F0FE;\n",
              "      border: none;\n",
              "      border-radius: 50%;\n",
              "      cursor: pointer;\n",
              "      display: none;\n",
              "      fill: #1967D2;\n",
              "      height: 32px;\n",
              "      padding: 0 0 0 0;\n",
              "      width: 32px;\n",
              "    }\n",
              "\n",
              "    .colab-df-convert:hover {\n",
              "      background-color: #E2EBFA;\n",
              "      box-shadow: 0px 1px 2px rgba(60, 64, 67, 0.3), 0px 1px 3px 1px rgba(60, 64, 67, 0.15);\n",
              "      fill: #174EA6;\n",
              "    }\n",
              "\n",
              "    [theme=dark] .colab-df-convert {\n",
              "      background-color: #3B4455;\n",
              "      fill: #D2E3FC;\n",
              "    }\n",
              "\n",
              "    [theme=dark] .colab-df-convert:hover {\n",
              "      background-color: #434B5C;\n",
              "      box-shadow: 0px 1px 3px 1px rgba(0, 0, 0, 0.15);\n",
              "      filter: drop-shadow(0px 1px 2px rgba(0, 0, 0, 0.3));\n",
              "      fill: #FFFFFF;\n",
              "    }\n",
              "  </style>\n",
              "\n",
              "      <script>\n",
              "        const buttonEl =\n",
              "          document.querySelector('#df-b4674420-a125-4ffb-991f-7adc434d4df1 button.colab-df-convert');\n",
              "        buttonEl.style.display =\n",
              "          google.colab.kernel.accessAllowed ? 'block' : 'none';\n",
              "\n",
              "        async function convertToInteractive(key) {\n",
              "          const element = document.querySelector('#df-b4674420-a125-4ffb-991f-7adc434d4df1');\n",
              "          const dataTable =\n",
              "            await google.colab.kernel.invokeFunction('convertToInteractive',\n",
              "                                                     [key], {});\n",
              "          if (!dataTable) return;\n",
              "\n",
              "          const docLinkHtml = 'Like what you see? Visit the ' +\n",
              "            '<a target=\"_blank\" href=https://colab.research.google.com/notebooks/data_table.ipynb>data table notebook</a>'\n",
              "            + ' to learn more about interactive tables.';\n",
              "          element.innerHTML = '';\n",
              "          dataTable['output_type'] = 'display_data';\n",
              "          await google.colab.output.renderOutput(dataTable, element);\n",
              "          const docLink = document.createElement('div');\n",
              "          docLink.innerHTML = docLinkHtml;\n",
              "          element.appendChild(docLink);\n",
              "        }\n",
              "      </script>\n",
              "    </div>\n",
              "  </div>\n",
              "  "
            ]
          },
          "metadata": {},
          "execution_count": 8
        }
      ]
    },
    {
      "cell_type": "code",
      "source": [
        "data['Dining Rating'] = data['Dining Rating'].str.replace(\"None\",'2.5')"
      ],
      "metadata": {
        "id": "X5WYieMbnUrS"
      },
      "execution_count": 9,
      "outputs": []
    },
    {
      "cell_type": "code",
      "source": [
        "data.iloc[np.where(data['Dining Rating'] == 'None')]"
      ],
      "metadata": {
        "colab": {
          "base_uri": "https://localhost:8080/",
          "height": 148
        },
        "id": "uaSjORW5n50o",
        "outputId": "c0675808-ec3f-4c1e-cd62-e9772748c4e2"
      },
      "execution_count": 10,
      "outputs": [
        {
          "output_type": "execute_result",
          "data": {
            "text/plain": [
              "Empty DataFrame\n",
              "Columns: [Zomato URL, Name of Restaurant, Address, Location, Cuisine, Top Dishes, Price for 2, Dining Rating, Dining Rating Count, Delivery Rating, Delivery Rating Count, Features]\n",
              "Index: []"
            ],
            "text/html": [
              "\n",
              "  <div id=\"df-c58a1a07-d294-46bd-b286-79196ad2f645\">\n",
              "    <div class=\"colab-df-container\">\n",
              "      <div>\n",
              "<style scoped>\n",
              "    .dataframe tbody tr th:only-of-type {\n",
              "        vertical-align: middle;\n",
              "    }\n",
              "\n",
              "    .dataframe tbody tr th {\n",
              "        vertical-align: top;\n",
              "    }\n",
              "\n",
              "    .dataframe thead th {\n",
              "        text-align: right;\n",
              "    }\n",
              "</style>\n",
              "<table border=\"1\" class=\"dataframe\">\n",
              "  <thead>\n",
              "    <tr style=\"text-align: right;\">\n",
              "      <th></th>\n",
              "      <th>Zomato URL</th>\n",
              "      <th>Name of Restaurant</th>\n",
              "      <th>Address</th>\n",
              "      <th>Location</th>\n",
              "      <th>Cuisine</th>\n",
              "      <th>Top Dishes</th>\n",
              "      <th>Price for 2</th>\n",
              "      <th>Dining Rating</th>\n",
              "      <th>Dining Rating Count</th>\n",
              "      <th>Delivery Rating</th>\n",
              "      <th>Delivery Rating Count</th>\n",
              "      <th>Features</th>\n",
              "    </tr>\n",
              "  </thead>\n",
              "  <tbody>\n",
              "  </tbody>\n",
              "</table>\n",
              "</div>\n",
              "      <button class=\"colab-df-convert\" onclick=\"convertToInteractive('df-c58a1a07-d294-46bd-b286-79196ad2f645')\"\n",
              "              title=\"Convert this dataframe to an interactive table.\"\n",
              "              style=\"display:none;\">\n",
              "        \n",
              "  <svg xmlns=\"http://www.w3.org/2000/svg\" height=\"24px\"viewBox=\"0 0 24 24\"\n",
              "       width=\"24px\">\n",
              "    <path d=\"M0 0h24v24H0V0z\" fill=\"none\"/>\n",
              "    <path d=\"M18.56 5.44l.94 2.06.94-2.06 2.06-.94-2.06-.94-.94-2.06-.94 2.06-2.06.94zm-11 1L8.5 8.5l.94-2.06 2.06-.94-2.06-.94L8.5 2.5l-.94 2.06-2.06.94zm10 10l.94 2.06.94-2.06 2.06-.94-2.06-.94-.94-2.06-.94 2.06-2.06.94z\"/><path d=\"M17.41 7.96l-1.37-1.37c-.4-.4-.92-.59-1.43-.59-.52 0-1.04.2-1.43.59L10.3 9.45l-7.72 7.72c-.78.78-.78 2.05 0 2.83L4 21.41c.39.39.9.59 1.41.59.51 0 1.02-.2 1.41-.59l7.78-7.78 2.81-2.81c.8-.78.8-2.07 0-2.86zM5.41 20L4 18.59l7.72-7.72 1.47 1.35L5.41 20z\"/>\n",
              "  </svg>\n",
              "      </button>\n",
              "      \n",
              "  <style>\n",
              "    .colab-df-container {\n",
              "      display:flex;\n",
              "      flex-wrap:wrap;\n",
              "      gap: 12px;\n",
              "    }\n",
              "\n",
              "    .colab-df-convert {\n",
              "      background-color: #E8F0FE;\n",
              "      border: none;\n",
              "      border-radius: 50%;\n",
              "      cursor: pointer;\n",
              "      display: none;\n",
              "      fill: #1967D2;\n",
              "      height: 32px;\n",
              "      padding: 0 0 0 0;\n",
              "      width: 32px;\n",
              "    }\n",
              "\n",
              "    .colab-df-convert:hover {\n",
              "      background-color: #E2EBFA;\n",
              "      box-shadow: 0px 1px 2px rgba(60, 64, 67, 0.3), 0px 1px 3px 1px rgba(60, 64, 67, 0.15);\n",
              "      fill: #174EA6;\n",
              "    }\n",
              "\n",
              "    [theme=dark] .colab-df-convert {\n",
              "      background-color: #3B4455;\n",
              "      fill: #D2E3FC;\n",
              "    }\n",
              "\n",
              "    [theme=dark] .colab-df-convert:hover {\n",
              "      background-color: #434B5C;\n",
              "      box-shadow: 0px 1px 3px 1px rgba(0, 0, 0, 0.15);\n",
              "      filter: drop-shadow(0px 1px 2px rgba(0, 0, 0, 0.3));\n",
              "      fill: #FFFFFF;\n",
              "    }\n",
              "  </style>\n",
              "\n",
              "      <script>\n",
              "        const buttonEl =\n",
              "          document.querySelector('#df-c58a1a07-d294-46bd-b286-79196ad2f645 button.colab-df-convert');\n",
              "        buttonEl.style.display =\n",
              "          google.colab.kernel.accessAllowed ? 'block' : 'none';\n",
              "\n",
              "        async function convertToInteractive(key) {\n",
              "          const element = document.querySelector('#df-c58a1a07-d294-46bd-b286-79196ad2f645');\n",
              "          const dataTable =\n",
              "            await google.colab.kernel.invokeFunction('convertToInteractive',\n",
              "                                                     [key], {});\n",
              "          if (!dataTable) return;\n",
              "\n",
              "          const docLinkHtml = 'Like what you see? Visit the ' +\n",
              "            '<a target=\"_blank\" href=https://colab.research.google.com/notebooks/data_table.ipynb>data table notebook</a>'\n",
              "            + ' to learn more about interactive tables.';\n",
              "          element.innerHTML = '';\n",
              "          dataTable['output_type'] = 'display_data';\n",
              "          await google.colab.output.renderOutput(dataTable, element);\n",
              "          const docLink = document.createElement('div');\n",
              "          docLink.innerHTML = docLinkHtml;\n",
              "          element.appendChild(docLink);\n",
              "        }\n",
              "      </script>\n",
              "    </div>\n",
              "  </div>\n",
              "  "
            ]
          },
          "metadata": {},
          "execution_count": 10
        }
      ]
    },
    {
      "cell_type": "markdown",
      "source": [
        "Dining Rating Column had some values as None.\n",
        "So i just removed the none value and replaced it with a avg value of 2.5 ( out off 5 )"
      ],
      "metadata": {
        "id": "er9Q4TmHeT4q"
      }
    },
    {
      "cell_type": "code",
      "source": [
        "data['Dining Rating'] = data['Dining Rating'].astype('float64')"
      ],
      "metadata": {
        "id": "MhVhrXH2l8x9"
      },
      "execution_count": 11,
      "outputs": []
    },
    {
      "cell_type": "code",
      "source": [
        "data.info()"
      ],
      "metadata": {
        "colab": {
          "base_uri": "https://localhost:8080/"
        },
        "id": "woOUTwfooM29",
        "outputId": "c90eff0f-c2c1-4126-8970-f1fa47a7e679"
      },
      "execution_count": 12,
      "outputs": [
        {
          "output_type": "stream",
          "name": "stdout",
          "text": [
            "<class 'pandas.core.frame.DataFrame'>\n",
            "RangeIndex: 12032 entries, 0 to 12031\n",
            "Data columns (total 12 columns):\n",
            " #   Column                 Non-Null Count  Dtype  \n",
            "---  ------                 --------------  -----  \n",
            " 0   Zomato URL             12032 non-null  object \n",
            " 1   Name of Restaurant     12032 non-null  object \n",
            " 2   Address                12032 non-null  object \n",
            " 3   Location               12032 non-null  object \n",
            " 4   Cuisine                12032 non-null  object \n",
            " 5   Top Dishes             12032 non-null  object \n",
            " 6   Price for 2            12032 non-null  int64  \n",
            " 7   Dining Rating          12032 non-null  float64\n",
            " 8   Dining Rating Count    12032 non-null  object \n",
            " 9   Delivery Rating        12032 non-null  object \n",
            " 10  Delivery Rating Count  12032 non-null  object \n",
            " 11  Features               12032 non-null  object \n",
            "dtypes: float64(1), int64(1), object(10)\n",
            "memory usage: 1.1+ MB\n"
          ]
        }
      ]
    },
    {
      "cell_type": "code",
      "source": [
        "data['Dining Rating'] = data['Dining Rating'].astype('int64')"
      ],
      "metadata": {
        "id": "cZTYm-WBoRLl"
      },
      "execution_count": 13,
      "outputs": []
    },
    {
      "cell_type": "code",
      "source": [
        "data.info()"
      ],
      "metadata": {
        "colab": {
          "base_uri": "https://localhost:8080/"
        },
        "id": "asfA4IpgoW7B",
        "outputId": "ecc1d1a6-625a-402f-e9d9-0b6320a0d829"
      },
      "execution_count": 14,
      "outputs": [
        {
          "output_type": "stream",
          "name": "stdout",
          "text": [
            "<class 'pandas.core.frame.DataFrame'>\n",
            "RangeIndex: 12032 entries, 0 to 12031\n",
            "Data columns (total 12 columns):\n",
            " #   Column                 Non-Null Count  Dtype \n",
            "---  ------                 --------------  ----- \n",
            " 0   Zomato URL             12032 non-null  object\n",
            " 1   Name of Restaurant     12032 non-null  object\n",
            " 2   Address                12032 non-null  object\n",
            " 3   Location               12032 non-null  object\n",
            " 4   Cuisine                12032 non-null  object\n",
            " 5   Top Dishes             12032 non-null  object\n",
            " 6   Price for 2            12032 non-null  int64 \n",
            " 7   Dining Rating          12032 non-null  int64 \n",
            " 8   Dining Rating Count    12032 non-null  object\n",
            " 9   Delivery Rating        12032 non-null  object\n",
            " 10  Delivery Rating Count  12032 non-null  object\n",
            " 11  Features               12032 non-null  object\n",
            "dtypes: int64(2), object(10)\n",
            "memory usage: 1.1+ MB\n"
          ]
        }
      ]
    },
    {
      "cell_type": "markdown",
      "source": [
        "Then i coverted the datatype of Dining Rate from object - float - integer"
      ],
      "metadata": {
        "id": "WAnjJzHpeWu9"
      }
    },
    {
      "cell_type": "code",
      "source": [
        "data.iloc[np.where(data['Delivery Rating'] == 'None')]"
      ],
      "metadata": {
        "colab": {
          "base_uri": "https://localhost:8080/",
          "height": 1000
        },
        "id": "9Z_GRflYod_F",
        "outputId": "fe81a4e5-b559-473b-8a81-38e26b933fae"
      },
      "execution_count": 15,
      "outputs": [
        {
          "output_type": "execute_result",
          "data": {
            "text/plain": [
              "                                              Zomato URL  \\\n",
              "15     https://www.zomato.com/chennai/welcome-hotel-p...   \n",
              "18     https://www.zomato.com/chennai/wire-room-bar-k...   \n",
              "23       https://www.zomato.com/chennai/bff-2-0-ra-puram   \n",
              "85     https://www.zomato.com/chennai/bazaar-all-day-...   \n",
              "89     https://www.zomato.com/chennai/coal-barbecues-...   \n",
              "...                                                  ...   \n",
              "12027  https://www.zomato.com/chennai/cks-sandwiches-...   \n",
              "12028  https://www.zomato.com/chennai/cks-sandwiches-...   \n",
              "12029  https://www.zomato.com/chennai/cks-sandwiches-...   \n",
              "12030  https://www.zomato.com/chennai/cks-sandwiches-...   \n",
              "12031  https://www.zomato.com/chennai/cks-sandwiches-...   \n",
              "\n",
              "                                 Name of Restaurant  \\\n",
              "15                                    Welcome Hotel   \n",
              "18                          Wire Room Bar & Kitchen   \n",
              "23                                          BFF 2.0   \n",
              "85     Bazaar - All Day Diner - Grand by GRT Hotels   \n",
              "89                                   Coal Barbecues   \n",
              "...                                             ...   \n",
              "12027                               CK's Sandwiches   \n",
              "12028                               CK's Sandwiches   \n",
              "12029                               CK's Sandwiches   \n",
              "12030                               CK's Sandwiches   \n",
              "12031                               CK's Sandwiches   \n",
              "\n",
              "                                                 Address  \\\n",
              "15      112/241, Purasawalkam High Road, Purasavakkam...   \n",
              "18      142, Phoenix Marketcity, New NGO Colony, Vela...   \n",
              "23               80/29, 2nd Main Road, RA Puram, Chennai   \n",
              "85      Grand by GRT Hotels, 120, Sir Thyagaraya Road...   \n",
              "89      Shop 17 & 18, Rajalakshmi Nagar, 7th Cross St...   \n",
              "...                                                  ...   \n",
              "12027                                      Delivery Only   \n",
              "12028                                      Delivery Only   \n",
              "12029                                      Delivery Only   \n",
              "12030                                      Delivery Only   \n",
              "12031                                      Delivery Only   \n",
              "\n",
              "                             Location  \\\n",
              "15                       Purasavakkam   \n",
              "18     Phoenix Market City, Velachery   \n",
              "23                           RA Puram   \n",
              "85                Grand by GRT Hotels   \n",
              "89                          Velachery   \n",
              "...                               ...   \n",
              "12027                           Porur   \n",
              "12028                        Kolathur   \n",
              "12029                 Anna Nagar East   \n",
              "12030                       Ramapuram   \n",
              "12031                  Sholinganallur   \n",
              "\n",
              "                                                 Cuisine  \\\n",
              "15           ['South Indian', ' Desserts', ' Beverages']   \n",
              "18                             ['Continental', ' Asian']   \n",
              "23          ['North Indian', ' Continental', ' Italian']   \n",
              "85     ['North Indian', ' South Indian', ' Continenta...   \n",
              "89                          ['North Indian', ' Chinese']   \n",
              "...                                                  ...   \n",
              "12027                                       ['Sandwich']   \n",
              "12028                                       ['Sandwich']   \n",
              "12029                                       ['Sandwich']   \n",
              "12030                                       ['Sandwich']   \n",
              "12031                                       ['Sandwich']   \n",
              "\n",
              "                                              Top Dishes  Price for 2  \\\n",
              "15     ['Pongal', ' Podi Dosa', ' Idli Sambar', ' Vad...          300   \n",
              "18     ['Cocktails', ' Salad', ' Beer', ' Tikka', ' P...         2000   \n",
              "23     ['Crispy Chicken', ' Cocktails', ' Pizza', ' N...         1500   \n",
              "85     ['Pizza', ' Pasta', ' Fish', ' Chaat', ' Momos...         2500   \n",
              "89     ['Chicken Honey', ' Fish', ' Prawn', ' Waffles...         1400   \n",
              "...                                                  ...          ...   \n",
              "12027                                            Invalid          350   \n",
              "12028                                            Invalid          350   \n",
              "12029                                            Invalid          350   \n",
              "12030                                            Invalid          350   \n",
              "12031                                            Invalid          350   \n",
              "\n",
              "       Dining Rating Dining Rating Count Delivery Rating  \\\n",
              "15                 4                1094            None   \n",
              "18                 4                 354            None   \n",
              "23                 4                 464            None   \n",
              "85                 4                1198            None   \n",
              "89                 4                9410            None   \n",
              "...              ...                 ...             ...   \n",
              "12027              2                None            None   \n",
              "12028              2                None            None   \n",
              "12029              2                None            None   \n",
              "12030              2                None            None   \n",
              "12031              2                None            None   \n",
              "\n",
              "             Delivery Rating Count  \\\n",
              "15         Does not offer Delivery   \n",
              "18         Does not offer Delivery   \n",
              "23         Does not offer Delivery   \n",
              "85     Not enough Delivery Reviews   \n",
              "89         Does not offer Delivery   \n",
              "...                            ...   \n",
              "12027                         None   \n",
              "12028                         None   \n",
              "12029                         None   \n",
              "12030                         None   \n",
              "12031                         None   \n",
              "\n",
              "                                                Features  \n",
              "15     ['Breakfast', 'Vegetarian Only', 'Indoor Seati...  \n",
              "18     ['Full Bar Available', 'Mall Parking', 'Dance ...  \n",
              "23     ['Full Bar Available', 'Indoor Seating', 'Nigh...  \n",
              "85     ['Breakfast', 'Home Delivery', 'Serves Alcohol...  \n",
              "89     ['Indoor Seating', 'Buffet', 'Table reservatio...  \n",
              "...                                                  ...  \n",
              "12027                     ['Breakfast', 'Delivery Only']  \n",
              "12028                     ['Breakfast', 'Delivery Only']  \n",
              "12029                     ['Breakfast', 'Delivery Only']  \n",
              "12030                     ['Breakfast', 'Delivery Only']  \n",
              "12031                     ['Breakfast', 'Delivery Only']  \n",
              "\n",
              "[5851 rows x 12 columns]"
            ],
            "text/html": [
              "\n",
              "  <div id=\"df-ff1d64e2-a775-4bf0-85f8-343b724e3412\">\n",
              "    <div class=\"colab-df-container\">\n",
              "      <div>\n",
              "<style scoped>\n",
              "    .dataframe tbody tr th:only-of-type {\n",
              "        vertical-align: middle;\n",
              "    }\n",
              "\n",
              "    .dataframe tbody tr th {\n",
              "        vertical-align: top;\n",
              "    }\n",
              "\n",
              "    .dataframe thead th {\n",
              "        text-align: right;\n",
              "    }\n",
              "</style>\n",
              "<table border=\"1\" class=\"dataframe\">\n",
              "  <thead>\n",
              "    <tr style=\"text-align: right;\">\n",
              "      <th></th>\n",
              "      <th>Zomato URL</th>\n",
              "      <th>Name of Restaurant</th>\n",
              "      <th>Address</th>\n",
              "      <th>Location</th>\n",
              "      <th>Cuisine</th>\n",
              "      <th>Top Dishes</th>\n",
              "      <th>Price for 2</th>\n",
              "      <th>Dining Rating</th>\n",
              "      <th>Dining Rating Count</th>\n",
              "      <th>Delivery Rating</th>\n",
              "      <th>Delivery Rating Count</th>\n",
              "      <th>Features</th>\n",
              "    </tr>\n",
              "  </thead>\n",
              "  <tbody>\n",
              "    <tr>\n",
              "      <th>15</th>\n",
              "      <td>https://www.zomato.com/chennai/welcome-hotel-p...</td>\n",
              "      <td>Welcome Hotel</td>\n",
              "      <td>112/241, Purasawalkam High Road, Purasavakkam...</td>\n",
              "      <td>Purasavakkam</td>\n",
              "      <td>['South Indian', ' Desserts', ' Beverages']</td>\n",
              "      <td>['Pongal', ' Podi Dosa', ' Idli Sambar', ' Vad...</td>\n",
              "      <td>300</td>\n",
              "      <td>4</td>\n",
              "      <td>1094</td>\n",
              "      <td>None</td>\n",
              "      <td>Does not offer Delivery</td>\n",
              "      <td>['Breakfast', 'Vegetarian Only', 'Indoor Seati...</td>\n",
              "    </tr>\n",
              "    <tr>\n",
              "      <th>18</th>\n",
              "      <td>https://www.zomato.com/chennai/wire-room-bar-k...</td>\n",
              "      <td>Wire Room Bar &amp; Kitchen</td>\n",
              "      <td>142, Phoenix Marketcity, New NGO Colony, Vela...</td>\n",
              "      <td>Phoenix Market City, Velachery</td>\n",
              "      <td>['Continental', ' Asian']</td>\n",
              "      <td>['Cocktails', ' Salad', ' Beer', ' Tikka', ' P...</td>\n",
              "      <td>2000</td>\n",
              "      <td>4</td>\n",
              "      <td>354</td>\n",
              "      <td>None</td>\n",
              "      <td>Does not offer Delivery</td>\n",
              "      <td>['Full Bar Available', 'Mall Parking', 'Dance ...</td>\n",
              "    </tr>\n",
              "    <tr>\n",
              "      <th>23</th>\n",
              "      <td>https://www.zomato.com/chennai/bff-2-0-ra-puram</td>\n",
              "      <td>BFF 2.0</td>\n",
              "      <td>80/29, 2nd Main Road, RA Puram, Chennai</td>\n",
              "      <td>RA Puram</td>\n",
              "      <td>['North Indian', ' Continental', ' Italian']</td>\n",
              "      <td>['Crispy Chicken', ' Cocktails', ' Pizza', ' N...</td>\n",
              "      <td>1500</td>\n",
              "      <td>4</td>\n",
              "      <td>464</td>\n",
              "      <td>None</td>\n",
              "      <td>Does not offer Delivery</td>\n",
              "      <td>['Full Bar Available', 'Indoor Seating', 'Nigh...</td>\n",
              "    </tr>\n",
              "    <tr>\n",
              "      <th>85</th>\n",
              "      <td>https://www.zomato.com/chennai/bazaar-all-day-...</td>\n",
              "      <td>Bazaar - All Day Diner - Grand by GRT Hotels</td>\n",
              "      <td>Grand by GRT Hotels, 120, Sir Thyagaraya Road...</td>\n",
              "      <td>Grand by GRT Hotels</td>\n",
              "      <td>['North Indian', ' South Indian', ' Continenta...</td>\n",
              "      <td>['Pizza', ' Pasta', ' Fish', ' Chaat', ' Momos...</td>\n",
              "      <td>2500</td>\n",
              "      <td>4</td>\n",
              "      <td>1198</td>\n",
              "      <td>None</td>\n",
              "      <td>Not enough Delivery Reviews</td>\n",
              "      <td>['Breakfast', 'Home Delivery', 'Serves Alcohol...</td>\n",
              "    </tr>\n",
              "    <tr>\n",
              "      <th>89</th>\n",
              "      <td>https://www.zomato.com/chennai/coal-barbecues-...</td>\n",
              "      <td>Coal Barbecues</td>\n",
              "      <td>Shop 17 &amp; 18, Rajalakshmi Nagar, 7th Cross St...</td>\n",
              "      <td>Velachery</td>\n",
              "      <td>['North Indian', ' Chinese']</td>\n",
              "      <td>['Chicken Honey', ' Fish', ' Prawn', ' Waffles...</td>\n",
              "      <td>1400</td>\n",
              "      <td>4</td>\n",
              "      <td>9410</td>\n",
              "      <td>None</td>\n",
              "      <td>Does not offer Delivery</td>\n",
              "      <td>['Indoor Seating', 'Buffet', 'Table reservatio...</td>\n",
              "    </tr>\n",
              "    <tr>\n",
              "      <th>...</th>\n",
              "      <td>...</td>\n",
              "      <td>...</td>\n",
              "      <td>...</td>\n",
              "      <td>...</td>\n",
              "      <td>...</td>\n",
              "      <td>...</td>\n",
              "      <td>...</td>\n",
              "      <td>...</td>\n",
              "      <td>...</td>\n",
              "      <td>...</td>\n",
              "      <td>...</td>\n",
              "      <td>...</td>\n",
              "    </tr>\n",
              "    <tr>\n",
              "      <th>12027</th>\n",
              "      <td>https://www.zomato.com/chennai/cks-sandwiches-...</td>\n",
              "      <td>CK's Sandwiches</td>\n",
              "      <td>Delivery Only</td>\n",
              "      <td>Porur</td>\n",
              "      <td>['Sandwich']</td>\n",
              "      <td>Invalid</td>\n",
              "      <td>350</td>\n",
              "      <td>2</td>\n",
              "      <td>None</td>\n",
              "      <td>None</td>\n",
              "      <td>None</td>\n",
              "      <td>['Breakfast', 'Delivery Only']</td>\n",
              "    </tr>\n",
              "    <tr>\n",
              "      <th>12028</th>\n",
              "      <td>https://www.zomato.com/chennai/cks-sandwiches-...</td>\n",
              "      <td>CK's Sandwiches</td>\n",
              "      <td>Delivery Only</td>\n",
              "      <td>Kolathur</td>\n",
              "      <td>['Sandwich']</td>\n",
              "      <td>Invalid</td>\n",
              "      <td>350</td>\n",
              "      <td>2</td>\n",
              "      <td>None</td>\n",
              "      <td>None</td>\n",
              "      <td>None</td>\n",
              "      <td>['Breakfast', 'Delivery Only']</td>\n",
              "    </tr>\n",
              "    <tr>\n",
              "      <th>12029</th>\n",
              "      <td>https://www.zomato.com/chennai/cks-sandwiches-...</td>\n",
              "      <td>CK's Sandwiches</td>\n",
              "      <td>Delivery Only</td>\n",
              "      <td>Anna Nagar East</td>\n",
              "      <td>['Sandwich']</td>\n",
              "      <td>Invalid</td>\n",
              "      <td>350</td>\n",
              "      <td>2</td>\n",
              "      <td>None</td>\n",
              "      <td>None</td>\n",
              "      <td>None</td>\n",
              "      <td>['Breakfast', 'Delivery Only']</td>\n",
              "    </tr>\n",
              "    <tr>\n",
              "      <th>12030</th>\n",
              "      <td>https://www.zomato.com/chennai/cks-sandwiches-...</td>\n",
              "      <td>CK's Sandwiches</td>\n",
              "      <td>Delivery Only</td>\n",
              "      <td>Ramapuram</td>\n",
              "      <td>['Sandwich']</td>\n",
              "      <td>Invalid</td>\n",
              "      <td>350</td>\n",
              "      <td>2</td>\n",
              "      <td>None</td>\n",
              "      <td>None</td>\n",
              "      <td>None</td>\n",
              "      <td>['Breakfast', 'Delivery Only']</td>\n",
              "    </tr>\n",
              "    <tr>\n",
              "      <th>12031</th>\n",
              "      <td>https://www.zomato.com/chennai/cks-sandwiches-...</td>\n",
              "      <td>CK's Sandwiches</td>\n",
              "      <td>Delivery Only</td>\n",
              "      <td>Sholinganallur</td>\n",
              "      <td>['Sandwich']</td>\n",
              "      <td>Invalid</td>\n",
              "      <td>350</td>\n",
              "      <td>2</td>\n",
              "      <td>None</td>\n",
              "      <td>None</td>\n",
              "      <td>None</td>\n",
              "      <td>['Breakfast', 'Delivery Only']</td>\n",
              "    </tr>\n",
              "  </tbody>\n",
              "</table>\n",
              "<p>5851 rows × 12 columns</p>\n",
              "</div>\n",
              "      <button class=\"colab-df-convert\" onclick=\"convertToInteractive('df-ff1d64e2-a775-4bf0-85f8-343b724e3412')\"\n",
              "              title=\"Convert this dataframe to an interactive table.\"\n",
              "              style=\"display:none;\">\n",
              "        \n",
              "  <svg xmlns=\"http://www.w3.org/2000/svg\" height=\"24px\"viewBox=\"0 0 24 24\"\n",
              "       width=\"24px\">\n",
              "    <path d=\"M0 0h24v24H0V0z\" fill=\"none\"/>\n",
              "    <path d=\"M18.56 5.44l.94 2.06.94-2.06 2.06-.94-2.06-.94-.94-2.06-.94 2.06-2.06.94zm-11 1L8.5 8.5l.94-2.06 2.06-.94-2.06-.94L8.5 2.5l-.94 2.06-2.06.94zm10 10l.94 2.06.94-2.06 2.06-.94-2.06-.94-.94-2.06-.94 2.06-2.06.94z\"/><path d=\"M17.41 7.96l-1.37-1.37c-.4-.4-.92-.59-1.43-.59-.52 0-1.04.2-1.43.59L10.3 9.45l-7.72 7.72c-.78.78-.78 2.05 0 2.83L4 21.41c.39.39.9.59 1.41.59.51 0 1.02-.2 1.41-.59l7.78-7.78 2.81-2.81c.8-.78.8-2.07 0-2.86zM5.41 20L4 18.59l7.72-7.72 1.47 1.35L5.41 20z\"/>\n",
              "  </svg>\n",
              "      </button>\n",
              "      \n",
              "  <style>\n",
              "    .colab-df-container {\n",
              "      display:flex;\n",
              "      flex-wrap:wrap;\n",
              "      gap: 12px;\n",
              "    }\n",
              "\n",
              "    .colab-df-convert {\n",
              "      background-color: #E8F0FE;\n",
              "      border: none;\n",
              "      border-radius: 50%;\n",
              "      cursor: pointer;\n",
              "      display: none;\n",
              "      fill: #1967D2;\n",
              "      height: 32px;\n",
              "      padding: 0 0 0 0;\n",
              "      width: 32px;\n",
              "    }\n",
              "\n",
              "    .colab-df-convert:hover {\n",
              "      background-color: #E2EBFA;\n",
              "      box-shadow: 0px 1px 2px rgba(60, 64, 67, 0.3), 0px 1px 3px 1px rgba(60, 64, 67, 0.15);\n",
              "      fill: #174EA6;\n",
              "    }\n",
              "\n",
              "    [theme=dark] .colab-df-convert {\n",
              "      background-color: #3B4455;\n",
              "      fill: #D2E3FC;\n",
              "    }\n",
              "\n",
              "    [theme=dark] .colab-df-convert:hover {\n",
              "      background-color: #434B5C;\n",
              "      box-shadow: 0px 1px 3px 1px rgba(0, 0, 0, 0.15);\n",
              "      filter: drop-shadow(0px 1px 2px rgba(0, 0, 0, 0.3));\n",
              "      fill: #FFFFFF;\n",
              "    }\n",
              "  </style>\n",
              "\n",
              "      <script>\n",
              "        const buttonEl =\n",
              "          document.querySelector('#df-ff1d64e2-a775-4bf0-85f8-343b724e3412 button.colab-df-convert');\n",
              "        buttonEl.style.display =\n",
              "          google.colab.kernel.accessAllowed ? 'block' : 'none';\n",
              "\n",
              "        async function convertToInteractive(key) {\n",
              "          const element = document.querySelector('#df-ff1d64e2-a775-4bf0-85f8-343b724e3412');\n",
              "          const dataTable =\n",
              "            await google.colab.kernel.invokeFunction('convertToInteractive',\n",
              "                                                     [key], {});\n",
              "          if (!dataTable) return;\n",
              "\n",
              "          const docLinkHtml = 'Like what you see? Visit the ' +\n",
              "            '<a target=\"_blank\" href=https://colab.research.google.com/notebooks/data_table.ipynb>data table notebook</a>'\n",
              "            + ' to learn more about interactive tables.';\n",
              "          element.innerHTML = '';\n",
              "          dataTable['output_type'] = 'display_data';\n",
              "          await google.colab.output.renderOutput(dataTable, element);\n",
              "          const docLink = document.createElement('div');\n",
              "          docLink.innerHTML = docLinkHtml;\n",
              "          element.appendChild(docLink);\n",
              "        }\n",
              "      </script>\n",
              "    </div>\n",
              "  </div>\n",
              "  "
            ]
          },
          "metadata": {},
          "execution_count": 15
        }
      ]
    },
    {
      "cell_type": "code",
      "source": [
        "data['Delivery Rating'] = data['Delivery Rating'].str.replace(\"None\",'2.5')"
      ],
      "metadata": {
        "id": "3-K_7reEoqFi"
      },
      "execution_count": 16,
      "outputs": []
    },
    {
      "cell_type": "code",
      "source": [
        "data.iloc[np.where(data['Delivery Rating'] == 'None')]"
      ],
      "metadata": {
        "colab": {
          "base_uri": "https://localhost:8080/",
          "height": 148
        },
        "id": "v6H93kVkozTj",
        "outputId": "a3a21223-7bbe-47de-e1aa-8f4b72d1dea7"
      },
      "execution_count": 17,
      "outputs": [
        {
          "output_type": "execute_result",
          "data": {
            "text/plain": [
              "Empty DataFrame\n",
              "Columns: [Zomato URL, Name of Restaurant, Address, Location, Cuisine, Top Dishes, Price for 2, Dining Rating, Dining Rating Count, Delivery Rating, Delivery Rating Count, Features]\n",
              "Index: []"
            ],
            "text/html": [
              "\n",
              "  <div id=\"df-f8946f34-3990-49c6-a81a-6792b2a947e9\">\n",
              "    <div class=\"colab-df-container\">\n",
              "      <div>\n",
              "<style scoped>\n",
              "    .dataframe tbody tr th:only-of-type {\n",
              "        vertical-align: middle;\n",
              "    }\n",
              "\n",
              "    .dataframe tbody tr th {\n",
              "        vertical-align: top;\n",
              "    }\n",
              "\n",
              "    .dataframe thead th {\n",
              "        text-align: right;\n",
              "    }\n",
              "</style>\n",
              "<table border=\"1\" class=\"dataframe\">\n",
              "  <thead>\n",
              "    <tr style=\"text-align: right;\">\n",
              "      <th></th>\n",
              "      <th>Zomato URL</th>\n",
              "      <th>Name of Restaurant</th>\n",
              "      <th>Address</th>\n",
              "      <th>Location</th>\n",
              "      <th>Cuisine</th>\n",
              "      <th>Top Dishes</th>\n",
              "      <th>Price for 2</th>\n",
              "      <th>Dining Rating</th>\n",
              "      <th>Dining Rating Count</th>\n",
              "      <th>Delivery Rating</th>\n",
              "      <th>Delivery Rating Count</th>\n",
              "      <th>Features</th>\n",
              "    </tr>\n",
              "  </thead>\n",
              "  <tbody>\n",
              "  </tbody>\n",
              "</table>\n",
              "</div>\n",
              "      <button class=\"colab-df-convert\" onclick=\"convertToInteractive('df-f8946f34-3990-49c6-a81a-6792b2a947e9')\"\n",
              "              title=\"Convert this dataframe to an interactive table.\"\n",
              "              style=\"display:none;\">\n",
              "        \n",
              "  <svg xmlns=\"http://www.w3.org/2000/svg\" height=\"24px\"viewBox=\"0 0 24 24\"\n",
              "       width=\"24px\">\n",
              "    <path d=\"M0 0h24v24H0V0z\" fill=\"none\"/>\n",
              "    <path d=\"M18.56 5.44l.94 2.06.94-2.06 2.06-.94-2.06-.94-.94-2.06-.94 2.06-2.06.94zm-11 1L8.5 8.5l.94-2.06 2.06-.94-2.06-.94L8.5 2.5l-.94 2.06-2.06.94zm10 10l.94 2.06.94-2.06 2.06-.94-2.06-.94-.94-2.06-.94 2.06-2.06.94z\"/><path d=\"M17.41 7.96l-1.37-1.37c-.4-.4-.92-.59-1.43-.59-.52 0-1.04.2-1.43.59L10.3 9.45l-7.72 7.72c-.78.78-.78 2.05 0 2.83L4 21.41c.39.39.9.59 1.41.59.51 0 1.02-.2 1.41-.59l7.78-7.78 2.81-2.81c.8-.78.8-2.07 0-2.86zM5.41 20L4 18.59l7.72-7.72 1.47 1.35L5.41 20z\"/>\n",
              "  </svg>\n",
              "      </button>\n",
              "      \n",
              "  <style>\n",
              "    .colab-df-container {\n",
              "      display:flex;\n",
              "      flex-wrap:wrap;\n",
              "      gap: 12px;\n",
              "    }\n",
              "\n",
              "    .colab-df-convert {\n",
              "      background-color: #E8F0FE;\n",
              "      border: none;\n",
              "      border-radius: 50%;\n",
              "      cursor: pointer;\n",
              "      display: none;\n",
              "      fill: #1967D2;\n",
              "      height: 32px;\n",
              "      padding: 0 0 0 0;\n",
              "      width: 32px;\n",
              "    }\n",
              "\n",
              "    .colab-df-convert:hover {\n",
              "      background-color: #E2EBFA;\n",
              "      box-shadow: 0px 1px 2px rgba(60, 64, 67, 0.3), 0px 1px 3px 1px rgba(60, 64, 67, 0.15);\n",
              "      fill: #174EA6;\n",
              "    }\n",
              "\n",
              "    [theme=dark] .colab-df-convert {\n",
              "      background-color: #3B4455;\n",
              "      fill: #D2E3FC;\n",
              "    }\n",
              "\n",
              "    [theme=dark] .colab-df-convert:hover {\n",
              "      background-color: #434B5C;\n",
              "      box-shadow: 0px 1px 3px 1px rgba(0, 0, 0, 0.15);\n",
              "      filter: drop-shadow(0px 1px 2px rgba(0, 0, 0, 0.3));\n",
              "      fill: #FFFFFF;\n",
              "    }\n",
              "  </style>\n",
              "\n",
              "      <script>\n",
              "        const buttonEl =\n",
              "          document.querySelector('#df-f8946f34-3990-49c6-a81a-6792b2a947e9 button.colab-df-convert');\n",
              "        buttonEl.style.display =\n",
              "          google.colab.kernel.accessAllowed ? 'block' : 'none';\n",
              "\n",
              "        async function convertToInteractive(key) {\n",
              "          const element = document.querySelector('#df-f8946f34-3990-49c6-a81a-6792b2a947e9');\n",
              "          const dataTable =\n",
              "            await google.colab.kernel.invokeFunction('convertToInteractive',\n",
              "                                                     [key], {});\n",
              "          if (!dataTable) return;\n",
              "\n",
              "          const docLinkHtml = 'Like what you see? Visit the ' +\n",
              "            '<a target=\"_blank\" href=https://colab.research.google.com/notebooks/data_table.ipynb>data table notebook</a>'\n",
              "            + ' to learn more about interactive tables.';\n",
              "          element.innerHTML = '';\n",
              "          dataTable['output_type'] = 'display_data';\n",
              "          await google.colab.output.renderOutput(dataTable, element);\n",
              "          const docLink = document.createElement('div');\n",
              "          docLink.innerHTML = docLinkHtml;\n",
              "          element.appendChild(docLink);\n",
              "        }\n",
              "      </script>\n",
              "    </div>\n",
              "  </div>\n",
              "  "
            ]
          },
          "metadata": {},
          "execution_count": 17
        }
      ]
    },
    {
      "cell_type": "markdown",
      "source": [
        "Delivery Rating Column had some values as None.\n",
        "So i just removed the none value and replaced it with a avg value of 2.5 ( out off 5 )"
      ],
      "metadata": {
        "id": "2YBgvnFKehU2"
      }
    },
    {
      "cell_type": "code",
      "source": [
        "data['Delivery Rating'] = data['Delivery Rating'].astype('float64')"
      ],
      "metadata": {
        "id": "V1D3Dk22o6Xc"
      },
      "execution_count": 18,
      "outputs": []
    },
    {
      "cell_type": "code",
      "source": [
        "data.info()"
      ],
      "metadata": {
        "colab": {
          "base_uri": "https://localhost:8080/"
        },
        "id": "GNU5GhAco_M5",
        "outputId": "cba746cc-f7f9-449b-ffe6-ac54e7b5b61b"
      },
      "execution_count": 19,
      "outputs": [
        {
          "output_type": "stream",
          "name": "stdout",
          "text": [
            "<class 'pandas.core.frame.DataFrame'>\n",
            "RangeIndex: 12032 entries, 0 to 12031\n",
            "Data columns (total 12 columns):\n",
            " #   Column                 Non-Null Count  Dtype  \n",
            "---  ------                 --------------  -----  \n",
            " 0   Zomato URL             12032 non-null  object \n",
            " 1   Name of Restaurant     12032 non-null  object \n",
            " 2   Address                12032 non-null  object \n",
            " 3   Location               12032 non-null  object \n",
            " 4   Cuisine                12032 non-null  object \n",
            " 5   Top Dishes             12032 non-null  object \n",
            " 6   Price for 2            12032 non-null  int64  \n",
            " 7   Dining Rating          12032 non-null  int64  \n",
            " 8   Dining Rating Count    12032 non-null  object \n",
            " 9   Delivery Rating        12032 non-null  float64\n",
            " 10  Delivery Rating Count  12032 non-null  object \n",
            " 11  Features               12032 non-null  object \n",
            "dtypes: float64(1), int64(2), object(9)\n",
            "memory usage: 1.1+ MB\n"
          ]
        }
      ]
    },
    {
      "cell_type": "code",
      "source": [
        "data['Delivery Rating'] = data['Delivery Rating'].astype('int64')"
      ],
      "metadata": {
        "id": "udX3OTHKmSo7"
      },
      "execution_count": 20,
      "outputs": []
    },
    {
      "cell_type": "code",
      "source": [
        "data.info()"
      ],
      "metadata": {
        "colab": {
          "base_uri": "https://localhost:8080/"
        },
        "id": "E0fek_WyeYO1",
        "outputId": "a709d37c-7b41-46e9-a126-60df5212dbc8"
      },
      "execution_count": 21,
      "outputs": [
        {
          "output_type": "stream",
          "name": "stdout",
          "text": [
            "<class 'pandas.core.frame.DataFrame'>\n",
            "RangeIndex: 12032 entries, 0 to 12031\n",
            "Data columns (total 12 columns):\n",
            " #   Column                 Non-Null Count  Dtype \n",
            "---  ------                 --------------  ----- \n",
            " 0   Zomato URL             12032 non-null  object\n",
            " 1   Name of Restaurant     12032 non-null  object\n",
            " 2   Address                12032 non-null  object\n",
            " 3   Location               12032 non-null  object\n",
            " 4   Cuisine                12032 non-null  object\n",
            " 5   Top Dishes             12032 non-null  object\n",
            " 6   Price for 2            12032 non-null  int64 \n",
            " 7   Dining Rating          12032 non-null  int64 \n",
            " 8   Dining Rating Count    12032 non-null  object\n",
            " 9   Delivery Rating        12032 non-null  int64 \n",
            " 10  Delivery Rating Count  12032 non-null  object\n",
            " 11  Features               12032 non-null  object\n",
            "dtypes: int64(3), object(9)\n",
            "memory usage: 1.1+ MB\n"
          ]
        }
      ]
    },
    {
      "cell_type": "markdown",
      "source": [
        "Then i coverted the datatype of Delivery Rate from object - float - integer"
      ],
      "metadata": {
        "id": "7EWWytm6envF"
      }
    },
    {
      "cell_type": "markdown",
      "source": [
        "**COLUMN NAMES**"
      ],
      "metadata": {
        "id": "-gyFb8EDH-np"
      }
    },
    {
      "cell_type": "code",
      "source": [
        "data.columns"
      ],
      "metadata": {
        "colab": {
          "base_uri": "https://localhost:8080/"
        },
        "id": "J--W50QBH_7G",
        "outputId": "dc80ec1c-658d-4f26-c43d-d28d39b9b948"
      },
      "execution_count": 22,
      "outputs": [
        {
          "output_type": "execute_result",
          "data": {
            "text/plain": [
              "Index(['Zomato URL', 'Name of Restaurant', 'Address', 'Location', 'Cuisine',\n",
              "       'Top Dishes', 'Price for 2', 'Dining Rating', 'Dining Rating Count',\n",
              "       'Delivery Rating', 'Delivery Rating Count', 'Features'],\n",
              "      dtype='object')"
            ]
          },
          "metadata": {},
          "execution_count": 22
        }
      ]
    },
    {
      "cell_type": "markdown",
      "source": [
        "**RENAME / CHANGE THE COLUMN NAME**"
      ],
      "metadata": {
        "id": "fX1_HxNPIFSQ"
      }
    },
    {
      "cell_type": "code",
      "source": [
        "data.rename(columns={'Zomato URL':'URL','Name of Restaurant':'Restaurent_Name','Top Dishes':'Top_Dishes','Price for 2':'Price_For_2_People','Dining Rating':'Dining_Rating','Delivery Rating':'Delivery_Rating'}, inplace=True)"
      ],
      "metadata": {
        "id": "MyNS928JIJHv"
      },
      "execution_count": 23,
      "outputs": []
    },
    {
      "cell_type": "code",
      "source": [
        "data.columns"
      ],
      "metadata": {
        "colab": {
          "base_uri": "https://localhost:8080/"
        },
        "id": "pO4nD1-AJtDY",
        "outputId": "68289a51-c83a-4cae-cd86-4f74d9bae86c"
      },
      "execution_count": 24,
      "outputs": [
        {
          "output_type": "execute_result",
          "data": {
            "text/plain": [
              "Index(['URL', 'Restaurent_Name', 'Address', 'Location', 'Cuisine',\n",
              "       'Top_Dishes', 'Price_For_2_People', 'Dining_Rating',\n",
              "       'Dining Rating Count', 'Delivery_Rating', 'Delivery Rating Count',\n",
              "       'Features'],\n",
              "      dtype='object')"
            ]
          },
          "metadata": {},
          "execution_count": 24
        }
      ]
    },
    {
      "cell_type": "markdown",
      "source": [
        "**REMOVE UNWANTED COLUMNS**"
      ],
      "metadata": {
        "id": "-upwG6fIJw3P"
      }
    },
    {
      "cell_type": "code",
      "source": [
        "data.drop(['Delivery Rating Count','Dining Rating Count'], axis=1, inplace=True)"
      ],
      "metadata": {
        "id": "b_umjVBbJzEf"
      },
      "execution_count": 25,
      "outputs": []
    },
    {
      "cell_type": "code",
      "source": [
        "data.columns"
      ],
      "metadata": {
        "colab": {
          "base_uri": "https://localhost:8080/"
        },
        "id": "lCPUpMtZJ-Tx",
        "outputId": "a580d271-7643-4c7a-b3b4-92aaece8b528"
      },
      "execution_count": 26,
      "outputs": [
        {
          "output_type": "execute_result",
          "data": {
            "text/plain": [
              "Index(['URL', 'Restaurent_Name', 'Address', 'Location', 'Cuisine',\n",
              "       'Top_Dishes', 'Price_For_2_People', 'Dining_Rating', 'Delivery_Rating',\n",
              "       'Features'],\n",
              "      dtype='object')"
            ]
          },
          "metadata": {},
          "execution_count": 26
        }
      ]
    },
    {
      "cell_type": "markdown",
      "source": [
        "**LIST OF CATEGORICAL VALUE COLUMNS**"
      ],
      "metadata": {
        "id": "Ttwk54zTKcKI"
      }
    },
    {
      "cell_type": "code",
      "source": [
        "cat = data.select_dtypes(include=['object']).columns\n",
        "cat"
      ],
      "metadata": {
        "colab": {
          "base_uri": "https://localhost:8080/"
        },
        "id": "kOdWiKGvKfUa",
        "outputId": "9f866626-39f4-48f5-d017-29f654dc6244"
      },
      "execution_count": 27,
      "outputs": [
        {
          "output_type": "execute_result",
          "data": {
            "text/plain": [
              "Index(['URL', 'Restaurent_Name', 'Address', 'Location', 'Cuisine',\n",
              "       'Top_Dishes', 'Features'],\n",
              "      dtype='object')"
            ]
          },
          "metadata": {},
          "execution_count": 27
        }
      ]
    },
    {
      "cell_type": "markdown",
      "source": [
        "**LIST OF NUMERICAL VALUE COLUMNS**"
      ],
      "metadata": {
        "id": "41cfyuToKotn"
      }
    },
    {
      "cell_type": "code",
      "source": [
        "num = data.select_dtypes(include=['number']).columns\n",
        "num"
      ],
      "metadata": {
        "colab": {
          "base_uri": "https://localhost:8080/"
        },
        "id": "VF2XjV3OKsmg",
        "outputId": "1aad76e6-5629-42f5-88bd-3b4945ecb02e"
      },
      "execution_count": 28,
      "outputs": [
        {
          "output_type": "execute_result",
          "data": {
            "text/plain": [
              "Index(['Price_For_2_People', 'Dining_Rating', 'Delivery_Rating'], dtype='object')"
            ]
          },
          "metadata": {},
          "execution_count": 28
        }
      ]
    },
    {
      "cell_type": "markdown",
      "source": [
        "**BOXPLOT FOR NUMERICAL VALUE**"
      ],
      "metadata": {
        "id": "ic4lP0rQjgvW"
      }
    },
    {
      "cell_type": "code",
      "source": [
        "sns.boxplot(data=data[num])"
      ],
      "metadata": {
        "colab": {
          "base_uri": "https://localhost:8080/",
          "height": 447
        },
        "id": "QBbXnEITgCoI",
        "outputId": "0eea7837-5e5e-469d-b30c-8ae500700406"
      },
      "execution_count": 29,
      "outputs": [
        {
          "output_type": "execute_result",
          "data": {
            "text/plain": [
              "<Axes: >"
            ]
          },
          "metadata": {},
          "execution_count": 29
        },
        {
          "output_type": "display_data",
          "data": {
            "text/plain": [
              "<Figure size 640x480 with 1 Axes>"
            ],
            "image/png": "[encoded data removed]"
          },
          "metadata": {}
        }
      ]
    },
    {
      "cell_type": "markdown",
      "source": [
        "We can't do boxplot for categorical variables\n",
        "\n",
        "Boxplot is used to show outliers"
      ],
      "metadata": {
        "id": "8sDQhPhMjxae"
      }
    },
    {
      "cell_type": "markdown",
      "source": [
        "**CHECKING NULL VALUES**"
      ],
      "metadata": {
        "id": "L-5to5lmNQIY"
      }
    },
    {
      "cell_type": "code",
      "source": [
        "data.isnull().sum()"
      ],
      "metadata": {
        "colab": {
          "base_uri": "https://localhost:8080/"
        },
        "id": "Q4DAvsJWMp3P",
        "outputId": "c0b8ccd2-18e1-4f07-d2da-d48cd4ac307e"
      },
      "execution_count": 30,
      "outputs": [
        {
          "output_type": "execute_result",
          "data": {
            "text/plain": [
              "URL                   0\n",
              "Restaurent_Name       0\n",
              "Address               0\n",
              "Location              0\n",
              "Cuisine               0\n",
              "Top_Dishes            0\n",
              "Price_For_2_People    0\n",
              "Dining_Rating         0\n",
              "Delivery_Rating       0\n",
              "Features              0\n",
              "dtype: int64"
            ]
          },
          "metadata": {},
          "execution_count": 30
        }
      ]
    },
    {
      "cell_type": "markdown",
      "source": [
        "We don't have any null values"
      ],
      "metadata": {
        "id": "PjNx2Ki2NToA"
      }
    },
    {
      "cell_type": "markdown",
      "source": [
        "We have got insights for \n",
        "\n",
        "* Top 10 Dishes\n",
        "* Top 10 Different Cuisines\n",
        "* No of restaurants in each area\n",
        "* Price for 2 people\n",
        "* Which Restaurant cost less for 2 people\n",
        "* Which Restaurant cost high for 2 people\n",
        "* Restaurant with highest & lowest dining rate\n",
        "* Restaurant with highest & lowest delivery rate"
      ],
      "metadata": {
        "id": "E4ycx1fyve0X"
      }
    },
    {
      "cell_type": "markdown",
      "source": [
        "**TOP 10 DISHES**"
      ],
      "metadata": {
        "id": "K2SQQLtiOHby"
      }
    },
    {
      "cell_type": "code",
      "source": [
        "data['Top_Dishes'].value_counts()[1:11]"
      ],
      "metadata": {
        "colab": {
          "base_uri": "https://localhost:8080/"
        },
        "id": "hMH1ZjClNXRz",
        "outputId": "98e1be1a-74f2-4c4a-f235-2b9863f12c07"
      },
      "execution_count": 31,
      "outputs": [
        {
          "output_type": "execute_result",
          "data": {
            "text/plain": [
              "['Biryani']                   30\n",
              "['Coffee']                    14\n",
              "['Chicken Biryani']           12\n",
              "['Pizza', ' Garlic Bread']    11\n",
              "['Sandwich']                  11\n",
              "['Pizza']                     10\n",
              "['Icecream Cake']              8\n",
              "['Paratha']                    8\n",
              "['Fried Rice Chicken']         6\n",
              "['Chicken Grill']              6\n",
              "Name: Top_Dishes, dtype: int64"
            ]
          },
          "metadata": {},
          "execution_count": 31
        }
      ]
    },
    {
      "cell_type": "markdown",
      "source": [
        "From our insights we came to know Biriyani is been liked dish / top dish / favourite dish by everyone"
      ],
      "metadata": {
        "id": "ZxM7oS3rOLFZ"
      }
    },
    {
      "cell_type": "markdown",
      "source": [
        "**VISUAL**"
      ],
      "metadata": {
        "id": "dJT11822G465"
      }
    },
    {
      "cell_type": "code",
      "source": [
        "data['Top_Dishes'].value_counts()[1:11].plot.bar()"
      ],
      "metadata": {
        "colab": {
          "base_uri": "https://localhost:8080/",
          "height": 594
        },
        "id": "2Oc1ZSIsG04o",
        "outputId": "30681cd7-12b4-40c4-adbd-26a9c16917d9"
      },
      "execution_count": 32,
      "outputs": [
        {
          "output_type": "execute_result",
          "data": {
            "text/plain": [
              "<Axes: >"
            ]
          },
          "metadata": {},
          "execution_count": 32
        },
        {
          "output_type": "display_data",
          "data": {
            "text/plain": [
              "<Figure size 640x480 with 1 Axes>"
            ],
            "image/png": "[encoded data removed]"
          },
          "metadata": {}
        }
      ]
    },
    {
      "cell_type": "markdown",
      "source": [
        "**TOP 10 DIFFERENT CUISINES**"
      ],
      "metadata": {
        "id": "B-NaDgKLP40u"
      }
    },
    {
      "cell_type": "code",
      "source": [
        "data['Cuisine'].value_counts()[0:10]"
      ],
      "metadata": {
        "colab": {
          "base_uri": "https://localhost:8080/"
        },
        "id": "fxLlT700Nf19",
        "outputId": "0efecaaf-ea47-4b0f-e6af-f4f4f5ee7c56"
      },
      "execution_count": 33,
      "outputs": [
        {
          "output_type": "execute_result",
          "data": {
            "text/plain": [
              "['South Indian']                883\n",
              "['Fast Food']                   295\n",
              "['Bakery']                      266\n",
              "['South Indian', ' Chinese']    233\n",
              "['Biryani']                     225\n",
              "['Chinese']                     218\n",
              "['Ice Cream']                   200\n",
              "['North Indian', ' Chinese']    195\n",
              "['North Indian']                188\n",
              "['Fast Food', ' Beverages']     177\n",
              "Name: Cuisine, dtype: int64"
            ]
          },
          "metadata": {},
          "execution_count": 33
        }
      ]
    },
    {
      "cell_type": "markdown",
      "source": [
        "South Indian cuisine is found in most of the restaurants"
      ],
      "metadata": {
        "id": "pzBGzDHnQC2f"
      }
    },
    {
      "cell_type": "markdown",
      "source": [
        "**VISUAL**"
      ],
      "metadata": {
        "id": "wqylRTuHG_Ar"
      }
    },
    {
      "cell_type": "code",
      "source": [
        "data['Cuisine'].value_counts()[0:10].plot.bar()"
      ],
      "metadata": {
        "colab": {
          "base_uri": "https://localhost:8080/",
          "height": 615
        },
        "id": "7RJBmrsrHCDN",
        "outputId": "41d89b26-2ac6-4ee9-c38a-01fdb0a8455b"
      },
      "execution_count": 34,
      "outputs": [
        {
          "output_type": "execute_result",
          "data": {
            "text/plain": [
              "<Axes: >"
            ]
          },
          "metadata": {},
          "execution_count": 34
        },
        {
          "output_type": "display_data",
          "data": {
            "text/plain": [
              "<Figure size 640x480 with 1 Axes>"
            ],
            "image/png": "[encoded data removed]"
          },
          "metadata": {}
        }
      ]
    },
    {
      "cell_type": "markdown",
      "source": [
        "**LIST RESTAURANTS IN DIFFERENT AREA**"
      ],
      "metadata": {
        "id": "mlFIcO2aQeSX"
      }
    },
    {
      "cell_type": "code",
      "source": [
        "data['Location'].value_counts()[0:10]"
      ],
      "metadata": {
        "colab": {
          "base_uri": "https://localhost:8080/"
        },
        "id": "dpGii_G0QnSn",
        "outputId": "7474f888-2756-4df7-fade-a36a7b652435"
      },
      "execution_count": 35,
      "outputs": [
        {
          "output_type": "execute_result",
          "data": {
            "text/plain": [
              "Porur              418\n",
              "Velachery          372\n",
              "Ambattur           334\n",
              "T. Nagar           315\n",
              "Perungudi          288\n",
              "Anna Nagar East    285\n",
              "Perambur           275\n",
              "Medavakkam         271\n",
              "Tambaram           258\n",
              "Ramapuram          248\n",
              "Name: Location, dtype: int64"
            ]
          },
          "metadata": {},
          "execution_count": 35
        }
      ]
    },
    {
      "cell_type": "markdown",
      "source": [
        "We have many restaurants in Porur Location"
      ],
      "metadata": {
        "id": "qPuYEa-XQ_U6"
      }
    },
    {
      "cell_type": "markdown",
      "source": [
        "**VISUAL**"
      ],
      "metadata": {
        "id": "iu-tAJMqHKGl"
      }
    },
    {
      "cell_type": "code",
      "source": [
        "data['Location'].value_counts()[0:10].plot.bar()"
      ],
      "metadata": {
        "colab": {
          "base_uri": "https://localhost:8080/",
          "height": 549
        },
        "id": "y1OuhMIxHMFA",
        "outputId": "b7e254bd-01c2-4b61-c6d3-5952cc3bc4f2"
      },
      "execution_count": 36,
      "outputs": [
        {
          "output_type": "execute_result",
          "data": {
            "text/plain": [
              "<Axes: >"
            ]
          },
          "metadata": {},
          "execution_count": 36
        },
        {
          "output_type": "display_data",
          "data": {
            "text/plain": [
              "<Figure size 640x480 with 1 Axes>"
            ],
            "image/png": "[encoded data removed]"
          },
          "metadata": {}
        }
      ]
    },
    {
      "cell_type": "markdown",
      "source": [
        "**PRICE FOR 2 PEOPLE IN EACH RESTAURANT**"
      ],
      "metadata": {
        "id": "DQfwO2TQSdvv"
      }
    },
    {
      "cell_type": "code",
      "source": [
        "data['Price_For_2_People'][0:20].value_counts()"
      ],
      "metadata": {
        "colab": {
          "base_uri": "https://localhost:8080/"
        },
        "id": "MDWViidwSrmA",
        "outputId": "bf7508dc-1369-415a-c4b0-758474372846"
      },
      "execution_count": 37,
      "outputs": [
        {
          "output_type": "execute_result",
          "data": {
            "text/plain": [
              "500     5\n",
              "450     3\n",
              "800     3\n",
              "350     2\n",
              "1000    1\n",
              "1400    1\n",
              "700     1\n",
              "900     1\n",
              "300     1\n",
              "1200    1\n",
              "2000    1\n",
              "Name: Price_For_2_People, dtype: int64"
            ]
          },
          "metadata": {},
          "execution_count": 37
        }
      ]
    },
    {
      "cell_type": "markdown",
      "source": [
        "From this we can assume in many restaurants, it cost around 500 for 2 peoples"
      ],
      "metadata": {
        "id": "O5eWRiPbTW8h"
      }
    },
    {
      "cell_type": "markdown",
      "source": [
        "**VISUAL**"
      ],
      "metadata": {
        "id": "eEO0Vm2OHerF"
      }
    },
    {
      "cell_type": "code",
      "source": [
        "data['Price_For_2_People'][0:10].value_counts().plot.bar()"
      ],
      "metadata": {
        "colab": {
          "base_uri": "https://localhost:8080/",
          "height": 468
        },
        "id": "oaD2V6l7HgVI",
        "outputId": "5a8e19fe-92b0-445b-9b02-050956ed39f8"
      },
      "execution_count": 38,
      "outputs": [
        {
          "output_type": "execute_result",
          "data": {
            "text/plain": [
              "<Axes: >"
            ]
          },
          "metadata": {},
          "execution_count": 38
        },
        {
          "output_type": "display_data",
          "data": {
            "text/plain": [
              "<Figure size 640x480 with 1 Axes>"
            ],
            "image/png": "[encoded data removed]"
          },
          "metadata": {}
        }
      ]
    },
    {
      "cell_type": "markdown",
      "source": [
        "**CHEAPEST RATE RESTAURANT FOR 2 PEOPLE**"
      ],
      "metadata": {
        "id": "1ch7IquTXclg"
      }
    },
    {
      "cell_type": "code",
      "source": [
        "min = data['Price_For_2_People'].min()\n",
        "min"
      ],
      "metadata": {
        "colab": {
          "base_uri": "https://localhost:8080/"
        },
        "id": "QPOruKOxX136",
        "outputId": "8841bda4-adda-4b4e-c617-69e61f900826"
      },
      "execution_count": 39,
      "outputs": [
        {
          "output_type": "execute_result",
          "data": {
            "text/plain": [
              "40"
            ]
          },
          "metadata": {},
          "execution_count": 39
        }
      ]
    },
    {
      "cell_type": "code",
      "source": [
        "data[data['Price_For_2_People']==min]"
      ],
      "metadata": {
        "colab": {
          "base_uri": "https://localhost:8080/",
          "height": 214
        },
        "id": "fkqcA4uNX8Y4",
        "outputId": "3da955df-5720-44f8-ec47-e55d7b6cb5f7"
      },
      "execution_count": 40,
      "outputs": [
        {
          "output_type": "execute_result",
          "data": {
            "text/plain": [
              "                                                   URL Restaurent_Name  \\\n",
              "4685  https://www.zomato.com/chennai/soda-hub-navallur        Soda Hub   \n",
              "\n",
              "                               Address                   Location  \\\n",
              "4685   92, OMR Road, Navallur, Chennai  OMR Food Street, Navallur   \n",
              "\n",
              "            Cuisine Top_Dishes  Price_For_2_People  Dining_Rating  \\\n",
              "4685  ['Beverages']    Invalid                  40              3   \n",
              "\n",
              "      Delivery_Rating                                           Features  \n",
              "4685                2  ['Takeaway Only', 'Vegetarian Only', 'Desserts...  "
            ],
            "text/html": [
              "\n",
              "  <div id=\"df-ca9c040e-f9b4-4bee-96a0-7c7261087a18\">\n",
              "    <div class=\"colab-df-container\">\n",
              "      <div>\n",
              "<style scoped>\n",
              "    .dataframe tbody tr th:only-of-type {\n",
              "        vertical-align: middle;\n",
              "    }\n",
              "\n",
              "    .dataframe tbody tr th {\n",
              "        vertical-align: top;\n",
              "    }\n",
              "\n",
              "    .dataframe thead th {\n",
              "        text-align: right;\n",
              "    }\n",
              "</style>\n",
              "<table border=\"1\" class=\"dataframe\">\n",
              "  <thead>\n",
              "    <tr style=\"text-align: right;\">\n",
              "      <th></th>\n",
              "      <th>URL</th>\n",
              "      <th>Restaurent_Name</th>\n",
              "      <th>Address</th>\n",
              "      <th>Location</th>\n",
              "      <th>Cuisine</th>\n",
              "      <th>Top_Dishes</th>\n",
              "      <th>Price_For_2_People</th>\n",
              "      <th>Dining_Rating</th>\n",
              "      <th>Delivery_Rating</th>\n",
              "      <th>Features</th>\n",
              "    </tr>\n",
              "  </thead>\n",
              "  <tbody>\n",
              "    <tr>\n",
              "      <th>4685</th>\n",
              "      <td>https://www.zomato.com/chennai/soda-hub-navallur</td>\n",
              "      <td>Soda Hub</td>\n",
              "      <td>92, OMR Road, Navallur, Chennai</td>\n",
              "      <td>OMR Food Street, Navallur</td>\n",
              "      <td>['Beverages']</td>\n",
              "      <td>Invalid</td>\n",
              "      <td>40</td>\n",
              "      <td>3</td>\n",
              "      <td>2</td>\n",
              "      <td>['Takeaway Only', 'Vegetarian Only', 'Desserts...</td>\n",
              "    </tr>\n",
              "  </tbody>\n",
              "</table>\n",
              "</div>\n",
              "      <button class=\"colab-df-convert\" onclick=\"convertToInteractive('df-ca9c040e-f9b4-4bee-96a0-7c7261087a18')\"\n",
              "              title=\"Convert this dataframe to an interactive table.\"\n",
              "              style=\"display:none;\">\n",
              "        \n",
              "  <svg xmlns=\"http://www.w3.org/2000/svg\" height=\"24px\"viewBox=\"0 0 24 24\"\n",
              "       width=\"24px\">\n",
              "    <path d=\"M0 0h24v24H0V0z\" fill=\"none\"/>\n",
              "    <path d=\"M18.56 5.44l.94 2.06.94-2.06 2.06-.94-2.06-.94-.94-2.06-.94 2.06-2.06.94zm-11 1L8.5 8.5l.94-2.06 2.06-.94-2.06-.94L8.5 2.5l-.94 2.06-2.06.94zm10 10l.94 2.06.94-2.06 2.06-.94-2.06-.94-.94-2.06-.94 2.06-2.06.94z\"/><path d=\"M17.41 7.96l-1.37-1.37c-.4-.4-.92-.59-1.43-.59-.52 0-1.04.2-1.43.59L10.3 9.45l-7.72 7.72c-.78.78-.78 2.05 0 2.83L4 21.41c.39.39.9.59 1.41.59.51 0 1.02-.2 1.41-.59l7.78-7.78 2.81-2.81c.8-.78.8-2.07 0-2.86zM5.41 20L4 18.59l7.72-7.72 1.47 1.35L5.41 20z\"/>\n",
              "  </svg>\n",
              "      </button>\n",
              "      \n",
              "  <style>\n",
              "    .colab-df-container {\n",
              "      display:flex;\n",
              "      flex-wrap:wrap;\n",
              "      gap: 12px;\n",
              "    }\n",
              "\n",
              "    .colab-df-convert {\n",
              "      background-color: #E8F0FE;\n",
              "      border: none;\n",
              "      border-radius: 50%;\n",
              "      cursor: pointer;\n",
              "      display: none;\n",
              "      fill: #1967D2;\n",
              "      height: 32px;\n",
              "      padding: 0 0 0 0;\n",
              "      width: 32px;\n",
              "    }\n",
              "\n",
              "    .colab-df-convert:hover {\n",
              "      background-color: #E2EBFA;\n",
              "      box-shadow: 0px 1px 2px rgba(60, 64, 67, 0.3), 0px 1px 3px 1px rgba(60, 64, 67, 0.15);\n",
              "      fill: #174EA6;\n",
              "    }\n",
              "\n",
              "    [theme=dark] .colab-df-convert {\n",
              "      background-color: #3B4455;\n",
              "      fill: #D2E3FC;\n",
              "    }\n",
              "\n",
              "    [theme=dark] .colab-df-convert:hover {\n",
              "      background-color: #434B5C;\n",
              "      box-shadow: 0px 1px 3px 1px rgba(0, 0, 0, 0.15);\n",
              "      filter: drop-shadow(0px 1px 2px rgba(0, 0, 0, 0.3));\n",
              "      fill: #FFFFFF;\n",
              "    }\n",
              "  </style>\n",
              "\n",
              "      <script>\n",
              "        const buttonEl =\n",
              "          document.querySelector('#df-ca9c040e-f9b4-4bee-96a0-7c7261087a18 button.colab-df-convert');\n",
              "        buttonEl.style.display =\n",
              "          google.colab.kernel.accessAllowed ? 'block' : 'none';\n",
              "\n",
              "        async function convertToInteractive(key) {\n",
              "          const element = document.querySelector('#df-ca9c040e-f9b4-4bee-96a0-7c7261087a18');\n",
              "          const dataTable =\n",
              "            await google.colab.kernel.invokeFunction('convertToInteractive',\n",
              "                                                     [key], {});\n",
              "          if (!dataTable) return;\n",
              "\n",
              "          const docLinkHtml = 'Like what you see? Visit the ' +\n",
              "            '<a target=\"_blank\" href=https://colab.research.google.com/notebooks/data_table.ipynb>data table notebook</a>'\n",
              "            + ' to learn more about interactive tables.';\n",
              "          element.innerHTML = '';\n",
              "          dataTable['output_type'] = 'display_data';\n",
              "          await google.colab.output.renderOutput(dataTable, element);\n",
              "          const docLink = document.createElement('div');\n",
              "          docLink.innerHTML = docLinkHtml;\n",
              "          element.appendChild(docLink);\n",
              "        }\n",
              "      </script>\n",
              "    </div>\n",
              "  </div>\n",
              "  "
            ]
          },
          "metadata": {},
          "execution_count": 40
        }
      ]
    },
    {
      "cell_type": "markdown",
      "source": [
        "COSTLY RATE RESTAURANT FOR 2 PEOPLE"
      ],
      "metadata": {
        "id": "03FSi0I8YOM6"
      }
    },
    {
      "cell_type": "code",
      "source": [
        "max = data['Price_For_2_People'].max()\n",
        "max"
      ],
      "metadata": {
        "colab": {
          "base_uri": "https://localhost:8080/"
        },
        "id": "JOOjekoBYWjb",
        "outputId": "a83c9767-b6a0-4419-fb22-ca34f4a6a349"
      },
      "execution_count": 41,
      "outputs": [
        {
          "output_type": "execute_result",
          "data": {
            "text/plain": [
              "5000"
            ]
          },
          "metadata": {},
          "execution_count": 41
        }
      ]
    },
    {
      "cell_type": "code",
      "source": [
        "data[data['Price_For_2_People']==max]"
      ],
      "metadata": {
        "colab": {
          "base_uri": "https://localhost:8080/",
          "height": 249
        },
        "id": "tEp37jVmYbMe",
        "outputId": "9ce59cf0-1d32-4dfe-fbe3-c9d8726b4684"
      },
      "execution_count": 42,
      "outputs": [
        {
          "output_type": "execute_result",
          "data": {
            "text/plain": [
              "                                                   URL  \\\n",
              "826  https://www.zomato.com/chennai/blend-taj-club-...   \n",
              "\n",
              "            Restaurent_Name  \\\n",
              "826  Blend - Taj Club House   \n",
              "\n",
              "                                               Address  \\\n",
              "826   Taj Club House Hotel, 2, Club House Road,  An...   \n",
              "\n",
              "                            Location          Cuisine              Top_Dishes  \\\n",
              "826  Taj Club House, Thousand Lights  ['Finger Food']  ['Cocktails', ' Beer']   \n",
              "\n",
              "     Price_For_2_People  Dining_Rating  Delivery_Rating  \\\n",
              "826                5000              4                2   \n",
              "\n",
              "                                              Features  \n",
              "826  ['Wheelchair Accessible', 'Full Bar Available'...  "
            ],
            "text/html": [
              "\n",
              "  <div id=\"df-c4714918-382a-435c-bb24-fdfd4aa09222\">\n",
              "    <div class=\"colab-df-container\">\n",
              "      <div>\n",
              "<style scoped>\n",
              "    .dataframe tbody tr th:only-of-type {\n",
              "        vertical-align: middle;\n",
              "    }\n",
              "\n",
              "    .dataframe tbody tr th {\n",
              "        vertical-align: top;\n",
              "    }\n",
              "\n",
              "    .dataframe thead th {\n",
              "        text-align: right;\n",
              "    }\n",
              "</style>\n",
              "<table border=\"1\" class=\"dataframe\">\n",
              "  <thead>\n",
              "    <tr style=\"text-align: right;\">\n",
              "      <th></th>\n",
              "      <th>URL</th>\n",
              "      <th>Restaurent_Name</th>\n",
              "      <th>Address</th>\n",
              "      <th>Location</th>\n",
              "      <th>Cuisine</th>\n",
              "      <th>Top_Dishes</th>\n",
              "      <th>Price_For_2_People</th>\n",
              "      <th>Dining_Rating</th>\n",
              "      <th>Delivery_Rating</th>\n",
              "      <th>Features</th>\n",
              "    </tr>\n",
              "  </thead>\n",
              "  <tbody>\n",
              "    <tr>\n",
              "      <th>826</th>\n",
              "      <td>https://www.zomato.com/chennai/blend-taj-club-...</td>\n",
              "      <td>Blend - Taj Club House</td>\n",
              "      <td>Taj Club House Hotel, 2, Club House Road,  An...</td>\n",
              "      <td>Taj Club House, Thousand Lights</td>\n",
              "      <td>['Finger Food']</td>\n",
              "      <td>['Cocktails', ' Beer']</td>\n",
              "      <td>5000</td>\n",
              "      <td>4</td>\n",
              "      <td>2</td>\n",
              "      <td>['Wheelchair Accessible', 'Full Bar Available'...</td>\n",
              "    </tr>\n",
              "  </tbody>\n",
              "</table>\n",
              "</div>\n",
              "      <button class=\"colab-df-convert\" onclick=\"convertToInteractive('df-c4714918-382a-435c-bb24-fdfd4aa09222')\"\n",
              "              title=\"Convert this dataframe to an interactive table.\"\n",
              "              style=\"display:none;\">\n",
              "        \n",
              "  <svg xmlns=\"http://www.w3.org/2000/svg\" height=\"24px\"viewBox=\"0 0 24 24\"\n",
              "       width=\"24px\">\n",
              "    <path d=\"M0 0h24v24H0V0z\" fill=\"none\"/>\n",
              "    <path d=\"M18.56 5.44l.94 2.06.94-2.06 2.06-.94-2.06-.94-.94-2.06-.94 2.06-2.06.94zm-11 1L8.5 8.5l.94-2.06 2.06-.94-2.06-.94L8.5 2.5l-.94 2.06-2.06.94zm10 10l.94 2.06.94-2.06 2.06-.94-2.06-.94-.94-2.06-.94 2.06-2.06.94z\"/><path d=\"M17.41 7.96l-1.37-1.37c-.4-.4-.92-.59-1.43-.59-.52 0-1.04.2-1.43.59L10.3 9.45l-7.72 7.72c-.78.78-.78 2.05 0 2.83L4 21.41c.39.39.9.59 1.41.59.51 0 1.02-.2 1.41-.59l7.78-7.78 2.81-2.81c.8-.78.8-2.07 0-2.86zM5.41 20L4 18.59l7.72-7.72 1.47 1.35L5.41 20z\"/>\n",
              "  </svg>\n",
              "      </button>\n",
              "      \n",
              "  <style>\n",
              "    .colab-df-container {\n",
              "      display:flex;\n",
              "      flex-wrap:wrap;\n",
              "      gap: 12px;\n",
              "    }\n",
              "\n",
              "    .colab-df-convert {\n",
              "      background-color: #E8F0FE;\n",
              "      border: none;\n",
              "      border-radius: 50%;\n",
              "      cursor: pointer;\n",
              "      display: none;\n",
              "      fill: #1967D2;\n",
              "      height: 32px;\n",
              "      padding: 0 0 0 0;\n",
              "      width: 32px;\n",
              "    }\n",
              "\n",
              "    .colab-df-convert:hover {\n",
              "      background-color: #E2EBFA;\n",
              "      box-shadow: 0px 1px 2px rgba(60, 64, 67, 0.3), 0px 1px 3px 1px rgba(60, 64, 67, 0.15);\n",
              "      fill: #174EA6;\n",
              "    }\n",
              "\n",
              "    [theme=dark] .colab-df-convert {\n",
              "      background-color: #3B4455;\n",
              "      fill: #D2E3FC;\n",
              "    }\n",
              "\n",
              "    [theme=dark] .colab-df-convert:hover {\n",
              "      background-color: #434B5C;\n",
              "      box-shadow: 0px 1px 3px 1px rgba(0, 0, 0, 0.15);\n",
              "      filter: drop-shadow(0px 1px 2px rgba(0, 0, 0, 0.3));\n",
              "      fill: #FFFFFF;\n",
              "    }\n",
              "  </style>\n",
              "\n",
              "      <script>\n",
              "        const buttonEl =\n",
              "          document.querySelector('#df-c4714918-382a-435c-bb24-fdfd4aa09222 button.colab-df-convert');\n",
              "        buttonEl.style.display =\n",
              "          google.colab.kernel.accessAllowed ? 'block' : 'none';\n",
              "\n",
              "        async function convertToInteractive(key) {\n",
              "          const element = document.querySelector('#df-c4714918-382a-435c-bb24-fdfd4aa09222');\n",
              "          const dataTable =\n",
              "            await google.colab.kernel.invokeFunction('convertToInteractive',\n",
              "                                                     [key], {});\n",
              "          if (!dataTable) return;\n",
              "\n",
              "          const docLinkHtml = 'Like what you see? Visit the ' +\n",
              "            '<a target=\"_blank\" href=https://colab.research.google.com/notebooks/data_table.ipynb>data table notebook</a>'\n",
              "            + ' to learn more about interactive tables.';\n",
              "          element.innerHTML = '';\n",
              "          dataTable['output_type'] = 'display_data';\n",
              "          await google.colab.output.renderOutput(dataTable, element);\n",
              "          const docLink = document.createElement('div');\n",
              "          docLink.innerHTML = docLinkHtml;\n",
              "          element.appendChild(docLink);\n",
              "        }\n",
              "      </script>\n",
              "    </div>\n",
              "  </div>\n",
              "  "
            ]
          },
          "metadata": {},
          "execution_count": 42
        }
      ]
    },
    {
      "cell_type": "markdown",
      "source": [
        "RESTAURANT WITH HIGHEST DINING RATE"
      ],
      "metadata": {
        "id": "Ap2Pl8ZXx1oP"
      }
    },
    {
      "cell_type": "code",
      "source": [
        "max_din_rat = data['Dining_Rating'].max()"
      ],
      "metadata": {
        "id": "kCP5zq46yJDB"
      },
      "execution_count": 44,
      "outputs": []
    },
    {
      "cell_type": "code",
      "source": [
        "data[data['Dining_Rating']==max_din_rat]"
      ],
      "metadata": {
        "colab": {
          "base_uri": "https://localhost:8080/",
          "height": 1000
        },
        "id": "yYPrq6FRyhMM",
        "outputId": "1ca35623-06cc-455b-8137-4beb36b403ca"
      },
      "execution_count": 48,
      "outputs": [
        {
          "output_type": "execute_result",
          "data": {
            "text/plain": [
              "                                                     URL  \\\n",
              "0      https://www.zomato.com/chennai/yaa-mohaideen-b...   \n",
              "1      https://www.zomato.com/chennai/sukkubhai-biriy...   \n",
              "2      https://www.zomato.com/chennai/ss-hyderabad-bi...   \n",
              "3            https://www.zomato.com/chennai/kfc-perambur   \n",
              "4      https://www.zomato.com/chennai/tasty-kitchen-p...   \n",
              "...                                                  ...   \n",
              "10063  https://www.zomato.com/chennai/cold-stone-crea...   \n",
              "10066  https://www.zomato.com/chennai/pizza-republic-...   \n",
              "10135  https://www.zomato.com/chennai/madrasi-biryani...   \n",
              "10423  https://www.zomato.com/chennai/kailash-parbat-...   \n",
              "11035  https://www.zomato.com/chennai/uzo-sandwiches-...   \n",
              "\n",
              "             Restaurent_Name  \\\n",
              "0      Yaa Mohaideen Briyani   \n",
              "1         Sukkubhai Biriyani   \n",
              "2       SS Hyderabad Biryani   \n",
              "3                        KFC   \n",
              "4              Tasty Kitchen   \n",
              "...                      ...   \n",
              "10063    Cold Stone Creamery   \n",
              "10066         Pizza Republic   \n",
              "10135        Madrasi Biryani   \n",
              "10423         Kailash Parbat   \n",
              "11035         Uzo Sandwiches   \n",
              "\n",
              "                                                 Address     Location  \\\n",
              "0              336 & 338, Main Road, Pallavaram, Chennai   Pallavaram   \n",
              "1       New 14, Old 11/3Q, Railway Station Road, MKN ...      Alandur   \n",
              "2       98/339, Arcot Road, Opposite Gokulam Chit Fun...  Kodambakkam   \n",
              "3       10, Periyar Nagar, 70 Feet Road, Near Sheeba ...     Perambur   \n",
              "4       135B, SRP Colony, Peravallur, Near Perambur, ...     Perambur   \n",
              "...                                                  ...          ...   \n",
              "10063   Plot 1, Gentle Tides, East Coast Road, Injamb...      Akkarai   \n",
              "10066   25, Kamaraj Street, Near Repco Home Finance.,...     Tambaram   \n",
              "10135   22, TS Ezhumalai Complex, OMR Road, Kelambakk...  Kelambakkam   \n",
              "10423   9, Atop French Loaf,2nd Avenue, Harrington, C...      Chetpet   \n",
              "11035   71, Pilayar Koil Street, SRM Nagar, Potheri, ...      Potheri   \n",
              "\n",
              "                                                 Cuisine  \\\n",
              "0                                            ['Biryani']   \n",
              "1      ['Biryani', ' North Indian', ' Mughlai', ' Des...   \n",
              "2      ['Biryani', ' North Indian', ' Chinese', ' Ara...   \n",
              "3      ['Burger', ' Fast Food', ' Finger Food', ' Bev...   \n",
              "4      ['Chinese', ' Biryani', ' North Indian', ' Che...   \n",
              "...                                                  ...   \n",
              "10063                         ['Desserts', ' Ice Cream']   \n",
              "10066                                          ['Pizza']   \n",
              "10135                       ['Biryani', ' South Indian']   \n",
              "10423     ['North Indian', ' Street Food', ' Fast Food']   \n",
              "11035  ['Sandwich', ' Burger', ' Wraps', ' Fast Food'...   \n",
              "\n",
              "                                              Top_Dishes  Price_For_2_People  \\\n",
              "0      ['Bread Halwa', ' Chicken 65', ' Mutton Biryan...                 500   \n",
              "1      ['Beef Biryani', ' Beef Fry', ' Paratha', ' Pa...                1000   \n",
              "2      ['Brinjal Curry', ' Tandoori Chicken', ' Chick...                 500   \n",
              "3                                      ['Zinger Burger']                 500   \n",
              "4      ['Mutton Biryani', ' Chicken Rice', ' Tomato R...                 450   \n",
              "...                                                  ...                 ...   \n",
              "10063                                            Invalid                 500   \n",
              "10066     ['Pizza', ' Garlic Bread', ' Salad', ' Pasta']                 500   \n",
              "10135  ['Paratha', ' Chicken Chukka Biryani', ' Chick...                 400   \n",
              "10423  ['Chaat', ' Panipuri', ' Sandwich', ' Paneer K...                 600   \n",
              "11035  ['Burgers', ' Chicken Sandwich', ' Pizza Sandw...                 300   \n",
              "\n",
              "       Dining_Rating  Delivery_Rating  \\\n",
              "0                  4                4   \n",
              "1                  4                4   \n",
              "2                  4                4   \n",
              "3                  4                4   \n",
              "4                  4                4   \n",
              "...              ...              ...   \n",
              "10063              4                4   \n",
              "10066              4                4   \n",
              "10135              4                3   \n",
              "10423              4                3   \n",
              "11035              4                4   \n",
              "\n",
              "                                                Features  \n",
              "0                    ['Home Delivery', 'Indoor Seating']  \n",
              "1      ['Home Delivery', 'Free Parking', 'Table booki...  \n",
              "2                    ['Home Delivery', 'Indoor Seating']  \n",
              "3      ['Home Delivery', 'Free Parking', 'Card Upon D...  \n",
              "4                    ['Home Delivery', 'Indoor Seating']  \n",
              "...                                                  ...  \n",
              "10063  ['Home Delivery', 'Vegetarian Only', 'Indoor S...  \n",
              "10066                ['Home Delivery', 'Indoor Seating']  \n",
              "10135                ['Home Delivery', 'Indoor Seating']  \n",
              "10423  ['Breakfast', 'Home Delivery', 'Vegetarian Onl...  \n",
              "11035  ['Home Delivery', 'Free Parking', 'Indoor Seat...  \n",
              "\n",
              "[893 rows x 10 columns]"
            ],
            "text/html": [
              "\n",
              "  <div id=\"df-f044af31-a517-40b9-b3cb-87f25db24eea\">\n",
              "    <div class=\"colab-df-container\">\n",
              "      <div>\n",
              "<style scoped>\n",
              "    .dataframe tbody tr th:only-of-type {\n",
              "        vertical-align: middle;\n",
              "    }\n",
              "\n",
              "    .dataframe tbody tr th {\n",
              "        vertical-align: top;\n",
              "    }\n",
              "\n",
              "    .dataframe thead th {\n",
              "        text-align: right;\n",
              "    }\n",
              "</style>\n",
              "<table border=\"1\" class=\"dataframe\">\n",
              "  <thead>\n",
              "    <tr style=\"text-align: right;\">\n",
              "      <th></th>\n",
              "      <th>URL</th>\n",
              "      <th>Restaurent_Name</th>\n",
              "      <th>Address</th>\n",
              "      <th>Location</th>\n",
              "      <th>Cuisine</th>\n",
              "      <th>Top_Dishes</th>\n",
              "      <th>Price_For_2_People</th>\n",
              "      <th>Dining_Rating</th>\n",
              "      <th>Delivery_Rating</th>\n",
              "      <th>Features</th>\n",
              "    </tr>\n",
              "  </thead>\n",
              "  <tbody>\n",
              "    <tr>\n",
              "      <th>0</th>\n",
              "      <td>https://www.zomato.com/chennai/yaa-mohaideen-b...</td>\n",
              "      <td>Yaa Mohaideen Briyani</td>\n",
              "      <td>336 &amp; 338, Main Road, Pallavaram, Chennai</td>\n",
              "      <td>Pallavaram</td>\n",
              "      <td>['Biryani']</td>\n",
              "      <td>['Bread Halwa', ' Chicken 65', ' Mutton Biryan...</td>\n",
              "      <td>500</td>\n",
              "      <td>4</td>\n",
              "      <td>4</td>\n",
              "      <td>['Home Delivery', 'Indoor Seating']</td>\n",
              "    </tr>\n",
              "    <tr>\n",
              "      <th>1</th>\n",
              "      <td>https://www.zomato.com/chennai/sukkubhai-biriy...</td>\n",
              "      <td>Sukkubhai Biriyani</td>\n",
              "      <td>New 14, Old 11/3Q, Railway Station Road, MKN ...</td>\n",
              "      <td>Alandur</td>\n",
              "      <td>['Biryani', ' North Indian', ' Mughlai', ' Des...</td>\n",
              "      <td>['Beef Biryani', ' Beef Fry', ' Paratha', ' Pa...</td>\n",
              "      <td>1000</td>\n",
              "      <td>4</td>\n",
              "      <td>4</td>\n",
              "      <td>['Home Delivery', 'Free Parking', 'Table booki...</td>\n",
              "    </tr>\n",
              "    <tr>\n",
              "      <th>2</th>\n",
              "      <td>https://www.zomato.com/chennai/ss-hyderabad-bi...</td>\n",
              "      <td>SS Hyderabad Biryani</td>\n",
              "      <td>98/339, Arcot Road, Opposite Gokulam Chit Fun...</td>\n",
              "      <td>Kodambakkam</td>\n",
              "      <td>['Biryani', ' North Indian', ' Chinese', ' Ara...</td>\n",
              "      <td>['Brinjal Curry', ' Tandoori Chicken', ' Chick...</td>\n",
              "      <td>500</td>\n",
              "      <td>4</td>\n",
              "      <td>4</td>\n",
              "      <td>['Home Delivery', 'Indoor Seating']</td>\n",
              "    </tr>\n",
              "    <tr>\n",
              "      <th>3</th>\n",
              "      <td>https://www.zomato.com/chennai/kfc-perambur</td>\n",
              "      <td>KFC</td>\n",
              "      <td>10, Periyar Nagar, 70 Feet Road, Near Sheeba ...</td>\n",
              "      <td>Perambur</td>\n",
              "      <td>['Burger', ' Fast Food', ' Finger Food', ' Bev...</td>\n",
              "      <td>['Zinger Burger']</td>\n",
              "      <td>500</td>\n",
              "      <td>4</td>\n",
              "      <td>4</td>\n",
              "      <td>['Home Delivery', 'Free Parking', 'Card Upon D...</td>\n",
              "    </tr>\n",
              "    <tr>\n",
              "      <th>4</th>\n",
              "      <td>https://www.zomato.com/chennai/tasty-kitchen-p...</td>\n",
              "      <td>Tasty Kitchen</td>\n",
              "      <td>135B, SRP Colony, Peravallur, Near Perambur, ...</td>\n",
              "      <td>Perambur</td>\n",
              "      <td>['Chinese', ' Biryani', ' North Indian', ' Che...</td>\n",
              "      <td>['Mutton Biryani', ' Chicken Rice', ' Tomato R...</td>\n",
              "      <td>450</td>\n",
              "      <td>4</td>\n",
              "      <td>4</td>\n",
              "      <td>['Home Delivery', 'Indoor Seating']</td>\n",
              "    </tr>\n",
              "    <tr>\n",
              "      <th>...</th>\n",
              "      <td>...</td>\n",
              "      <td>...</td>\n",
              "      <td>...</td>\n",
              "      <td>...</td>\n",
              "      <td>...</td>\n",
              "      <td>...</td>\n",
              "      <td>...</td>\n",
              "      <td>...</td>\n",
              "      <td>...</td>\n",
              "      <td>...</td>\n",
              "    </tr>\n",
              "    <tr>\n",
              "      <th>10063</th>\n",
              "      <td>https://www.zomato.com/chennai/cold-stone-crea...</td>\n",
              "      <td>Cold Stone Creamery</td>\n",
              "      <td>Plot 1, Gentle Tides, East Coast Road, Injamb...</td>\n",
              "      <td>Akkarai</td>\n",
              "      <td>['Desserts', ' Ice Cream']</td>\n",
              "      <td>Invalid</td>\n",
              "      <td>500</td>\n",
              "      <td>4</td>\n",
              "      <td>4</td>\n",
              "      <td>['Home Delivery', 'Vegetarian Only', 'Indoor S...</td>\n",
              "    </tr>\n",
              "    <tr>\n",
              "      <th>10066</th>\n",
              "      <td>https://www.zomato.com/chennai/pizza-republic-...</td>\n",
              "      <td>Pizza Republic</td>\n",
              "      <td>25, Kamaraj Street, Near Repco Home Finance.,...</td>\n",
              "      <td>Tambaram</td>\n",
              "      <td>['Pizza']</td>\n",
              "      <td>['Pizza', ' Garlic Bread', ' Salad', ' Pasta']</td>\n",
              "      <td>500</td>\n",
              "      <td>4</td>\n",
              "      <td>4</td>\n",
              "      <td>['Home Delivery', 'Indoor Seating']</td>\n",
              "    </tr>\n",
              "    <tr>\n",
              "      <th>10135</th>\n",
              "      <td>https://www.zomato.com/chennai/madrasi-biryani...</td>\n",
              "      <td>Madrasi Biryani</td>\n",
              "      <td>22, TS Ezhumalai Complex, OMR Road, Kelambakk...</td>\n",
              "      <td>Kelambakkam</td>\n",
              "      <td>['Biryani', ' South Indian']</td>\n",
              "      <td>['Paratha', ' Chicken Chukka Biryani', ' Chick...</td>\n",
              "      <td>400</td>\n",
              "      <td>4</td>\n",
              "      <td>3</td>\n",
              "      <td>['Home Delivery', 'Indoor Seating']</td>\n",
              "    </tr>\n",
              "    <tr>\n",
              "      <th>10423</th>\n",
              "      <td>https://www.zomato.com/chennai/kailash-parbat-...</td>\n",
              "      <td>Kailash Parbat</td>\n",
              "      <td>9, Atop French Loaf,2nd Avenue, Harrington, C...</td>\n",
              "      <td>Chetpet</td>\n",
              "      <td>['North Indian', ' Street Food', ' Fast Food']</td>\n",
              "      <td>['Chaat', ' Panipuri', ' Sandwich', ' Paneer K...</td>\n",
              "      <td>600</td>\n",
              "      <td>4</td>\n",
              "      <td>3</td>\n",
              "      <td>['Breakfast', 'Home Delivery', 'Vegetarian Onl...</td>\n",
              "    </tr>\n",
              "    <tr>\n",
              "      <th>11035</th>\n",
              "      <td>https://www.zomato.com/chennai/uzo-sandwiches-...</td>\n",
              "      <td>Uzo Sandwiches</td>\n",
              "      <td>71, Pilayar Koil Street, SRM Nagar, Potheri, ...</td>\n",
              "      <td>Potheri</td>\n",
              "      <td>['Sandwich', ' Burger', ' Wraps', ' Fast Food'...</td>\n",
              "      <td>['Burgers', ' Chicken Sandwich', ' Pizza Sandw...</td>\n",
              "      <td>300</td>\n",
              "      <td>4</td>\n",
              "      <td>4</td>\n",
              "      <td>['Home Delivery', 'Free Parking', 'Indoor Seat...</td>\n",
              "    </tr>\n",
              "  </tbody>\n",
              "</table>\n",
              "<p>893 rows × 10 columns</p>\n",
              "</div>\n",
              "      <button class=\"colab-df-convert\" onclick=\"convertToInteractive('df-f044af31-a517-40b9-b3cb-87f25db24eea')\"\n",
              "              title=\"Convert this dataframe to an interactive table.\"\n",
              "              style=\"display:none;\">\n",
              "        \n",
              "  <svg xmlns=\"http://www.w3.org/2000/svg\" height=\"24px\"viewBox=\"0 0 24 24\"\n",
              "       width=\"24px\">\n",
              "    <path d=\"M0 0h24v24H0V0z\" fill=\"none\"/>\n",
              "    <path d=\"M18.56 5.44l.94 2.06.94-2.06 2.06-.94-2.06-.94-.94-2.06-.94 2.06-2.06.94zm-11 1L8.5 8.5l.94-2.06 2.06-.94-2.06-.94L8.5 2.5l-.94 2.06-2.06.94zm10 10l.94 2.06.94-2.06 2.06-.94-2.06-.94-.94-2.06-.94 2.06-2.06.94z\"/><path d=\"M17.41 7.96l-1.37-1.37c-.4-.4-.92-.59-1.43-.59-.52 0-1.04.2-1.43.59L10.3 9.45l-7.72 7.72c-.78.78-.78 2.05 0 2.83L4 21.41c.39.39.9.59 1.41.59.51 0 1.02-.2 1.41-.59l7.78-7.78 2.81-2.81c.8-.78.8-2.07 0-2.86zM5.41 20L4 18.59l7.72-7.72 1.47 1.35L5.41 20z\"/>\n",
              "  </svg>\n",
              "      </button>\n",
              "      \n",
              "  <style>\n",
              "    .colab-df-container {\n",
              "      display:flex;\n",
              "      flex-wrap:wrap;\n",
              "      gap: 12px;\n",
              "    }\n",
              "\n",
              "    .colab-df-convert {\n",
              "      background-color: #E8F0FE;\n",
              "      border: none;\n",
              "      border-radius: 50%;\n",
              "      cursor: pointer;\n",
              "      display: none;\n",
              "      fill: #1967D2;\n",
              "      height: 32px;\n",
              "      padding: 0 0 0 0;\n",
              "      width: 32px;\n",
              "    }\n",
              "\n",
              "    .colab-df-convert:hover {\n",
              "      background-color: #E2EBFA;\n",
              "      box-shadow: 0px 1px 2px rgba(60, 64, 67, 0.3), 0px 1px 3px 1px rgba(60, 64, 67, 0.15);\n",
              "      fill: #174EA6;\n",
              "    }\n",
              "\n",
              "    [theme=dark] .colab-df-convert {\n",
              "      background-color: #3B4455;\n",
              "      fill: #D2E3FC;\n",
              "    }\n",
              "\n",
              "    [theme=dark] .colab-df-convert:hover {\n",
              "      background-color: #434B5C;\n",
              "      box-shadow: 0px 1px 3px 1px rgba(0, 0, 0, 0.15);\n",
              "      filter: drop-shadow(0px 1px 2px rgba(0, 0, 0, 0.3));\n",
              "      fill: #FFFFFF;\n",
              "    }\n",
              "  </style>\n",
              "\n",
              "      <script>\n",
              "        const buttonEl =\n",
              "          document.querySelector('#df-f044af31-a517-40b9-b3cb-87f25db24eea button.colab-df-convert');\n",
              "        buttonEl.style.display =\n",
              "          google.colab.kernel.accessAllowed ? 'block' : 'none';\n",
              "\n",
              "        async function convertToInteractive(key) {\n",
              "          const element = document.querySelector('#df-f044af31-a517-40b9-b3cb-87f25db24eea');\n",
              "          const dataTable =\n",
              "            await google.colab.kernel.invokeFunction('convertToInteractive',\n",
              "                                                     [key], {});\n",
              "          if (!dataTable) return;\n",
              "\n",
              "          const docLinkHtml = 'Like what you see? Visit the ' +\n",
              "            '<a target=\"_blank\" href=https://colab.research.google.com/notebooks/data_table.ipynb>data table notebook</a>'\n",
              "            + ' to learn more about interactive tables.';\n",
              "          element.innerHTML = '';\n",
              "          dataTable['output_type'] = 'display_data';\n",
              "          await google.colab.output.renderOutput(dataTable, element);\n",
              "          const docLink = document.createElement('div');\n",
              "          docLink.innerHTML = docLinkHtml;\n",
              "          element.appendChild(docLink);\n",
              "        }\n",
              "      </script>\n",
              "    </div>\n",
              "  </div>\n",
              "  "
            ]
          },
          "metadata": {},
          "execution_count": 48
        }
      ]
    },
    {
      "cell_type": "markdown",
      "source": [
        "RESTAURANT WITH LOWEST DINING RATE"
      ],
      "metadata": {
        "id": "0jqXfDXEy1-l"
      }
    },
    {
      "cell_type": "code",
      "source": [
        "min_din_rat = data['Dining_Rating'].min()"
      ],
      "metadata": {
        "id": "-UEnKfR_yZgy"
      },
      "execution_count": 46,
      "outputs": []
    },
    {
      "cell_type": "code",
      "source": [
        "data[data['Dining_Rating']==min_din_rat]"
      ],
      "metadata": {
        "colab": {
          "base_uri": "https://localhost:8080/",
          "height": 179
        },
        "id": "C1ZGmoy9yh1T",
        "outputId": "f085c149-5ce5-4674-c3a9-934e7527b6e7"
      },
      "execution_count": 49,
      "outputs": [
        {
          "output_type": "execute_result",
          "data": {
            "text/plain": [
              "                                                     URL   Restaurent_Name  \\\n",
              "11155  https://www.zomato.com/chennai/le-wrap-factori...  Le Wrap Factorie   \n",
              "\n",
              "              Address     Location                                 Cuisine  \\\n",
              "11155   Delivery Only  Injambakkam  ['American', ' Mexican', ' Fast Food']   \n",
              "\n",
              "      Top_Dishes  Price_For_2_People  Dining_Rating  Delivery_Rating  \\\n",
              "11155    Invalid                 250              0                2   \n",
              "\n",
              "                Features  \n",
              "11155  ['Delivery Only']  "
            ],
            "text/html": [
              "\n",
              "  <div id=\"df-b8eca0f4-c33a-4ecd-a322-6c62590ec445\">\n",
              "    <div class=\"colab-df-container\">\n",
              "      <div>\n",
              "<style scoped>\n",
              "    .dataframe tbody tr th:only-of-type {\n",
              "        vertical-align: middle;\n",
              "    }\n",
              "\n",
              "    .dataframe tbody tr th {\n",
              "        vertical-align: top;\n",
              "    }\n",
              "\n",
              "    .dataframe thead th {\n",
              "        text-align: right;\n",
              "    }\n",
              "</style>\n",
              "<table border=\"1\" class=\"dataframe\">\n",
              "  <thead>\n",
              "    <tr style=\"text-align: right;\">\n",
              "      <th></th>\n",
              "      <th>URL</th>\n",
              "      <th>Restaurent_Name</th>\n",
              "      <th>Address</th>\n",
              "      <th>Location</th>\n",
              "      <th>Cuisine</th>\n",
              "      <th>Top_Dishes</th>\n",
              "      <th>Price_For_2_People</th>\n",
              "      <th>Dining_Rating</th>\n",
              "      <th>Delivery_Rating</th>\n",
              "      <th>Features</th>\n",
              "    </tr>\n",
              "  </thead>\n",
              "  <tbody>\n",
              "    <tr>\n",
              "      <th>11155</th>\n",
              "      <td>https://www.zomato.com/chennai/le-wrap-factori...</td>\n",
              "      <td>Le Wrap Factorie</td>\n",
              "      <td>Delivery Only</td>\n",
              "      <td>Injambakkam</td>\n",
              "      <td>['American', ' Mexican', ' Fast Food']</td>\n",
              "      <td>Invalid</td>\n",
              "      <td>250</td>\n",
              "      <td>0</td>\n",
              "      <td>2</td>\n",
              "      <td>['Delivery Only']</td>\n",
              "    </tr>\n",
              "  </tbody>\n",
              "</table>\n",
              "</div>\n",
              "      <button class=\"colab-df-convert\" onclick=\"convertToInteractive('df-b8eca0f4-c33a-4ecd-a322-6c62590ec445')\"\n",
              "              title=\"Convert this dataframe to an interactive table.\"\n",
              "              style=\"display:none;\">\n",
              "        \n",
              "  <svg xmlns=\"http://www.w3.org/2000/svg\" height=\"24px\"viewBox=\"0 0 24 24\"\n",
              "       width=\"24px\">\n",
              "    <path d=\"M0 0h24v24H0V0z\" fill=\"none\"/>\n",
              "    <path d=\"M18.56 5.44l.94 2.06.94-2.06 2.06-.94-2.06-.94-.94-2.06-.94 2.06-2.06.94zm-11 1L8.5 8.5l.94-2.06 2.06-.94-2.06-.94L8.5 2.5l-.94 2.06-2.06.94zm10 10l.94 2.06.94-2.06 2.06-.94-2.06-.94-.94-2.06-.94 2.06-2.06.94z\"/><path d=\"M17.41 7.96l-1.37-1.37c-.4-.4-.92-.59-1.43-.59-.52 0-1.04.2-1.43.59L10.3 9.45l-7.72 7.72c-.78.78-.78 2.05 0 2.83L4 21.41c.39.39.9.59 1.41.59.51 0 1.02-.2 1.41-.59l7.78-7.78 2.81-2.81c.8-.78.8-2.07 0-2.86zM5.41 20L4 18.59l7.72-7.72 1.47 1.35L5.41 20z\"/>\n",
              "  </svg>\n",
              "      </button>\n",
              "      \n",
              "  <style>\n",
              "    .colab-df-container {\n",
              "      display:flex;\n",
              "      flex-wrap:wrap;\n",
              "      gap: 12px;\n",
              "    }\n",
              "\n",
              "    .colab-df-convert {\n",
              "      background-color: #E8F0FE;\n",
              "      border: none;\n",
              "      border-radius: 50%;\n",
              "      cursor: pointer;\n",
              "      display: none;\n",
              "      fill: #1967D2;\n",
              "      height: 32px;\n",
              "      padding: 0 0 0 0;\n",
              "      width: 32px;\n",
              "    }\n",
              "\n",
              "    .colab-df-convert:hover {\n",
              "      background-color: #E2EBFA;\n",
              "      box-shadow: 0px 1px 2px rgba(60, 64, 67, 0.3), 0px 1px 3px 1px rgba(60, 64, 67, 0.15);\n",
              "      fill: #174EA6;\n",
              "    }\n",
              "\n",
              "    [theme=dark] .colab-df-convert {\n",
              "      background-color: #3B4455;\n",
              "      fill: #D2E3FC;\n",
              "    }\n",
              "\n",
              "    [theme=dark] .colab-df-convert:hover {\n",
              "      background-color: #434B5C;\n",
              "      box-shadow: 0px 1px 3px 1px rgba(0, 0, 0, 0.15);\n",
              "      filter: drop-shadow(0px 1px 2px rgba(0, 0, 0, 0.3));\n",
              "      fill: #FFFFFF;\n",
              "    }\n",
              "  </style>\n",
              "\n",
              "      <script>\n",
              "        const buttonEl =\n",
              "          document.querySelector('#df-b8eca0f4-c33a-4ecd-a322-6c62590ec445 button.colab-df-convert');\n",
              "        buttonEl.style.display =\n",
              "          google.colab.kernel.accessAllowed ? 'block' : 'none';\n",
              "\n",
              "        async function convertToInteractive(key) {\n",
              "          const element = document.querySelector('#df-b8eca0f4-c33a-4ecd-a322-6c62590ec445');\n",
              "          const dataTable =\n",
              "            await google.colab.kernel.invokeFunction('convertToInteractive',\n",
              "                                                     [key], {});\n",
              "          if (!dataTable) return;\n",
              "\n",
              "          const docLinkHtml = 'Like what you see? Visit the ' +\n",
              "            '<a target=\"_blank\" href=https://colab.research.google.com/notebooks/data_table.ipynb>data table notebook</a>'\n",
              "            + ' to learn more about interactive tables.';\n",
              "          element.innerHTML = '';\n",
              "          dataTable['output_type'] = 'display_data';\n",
              "          await google.colab.output.renderOutput(dataTable, element);\n",
              "          const docLink = document.createElement('div');\n",
              "          docLink.innerHTML = docLinkHtml;\n",
              "          element.appendChild(docLink);\n",
              "        }\n",
              "      </script>\n",
              "    </div>\n",
              "  </div>\n",
              "  "
            ]
          },
          "metadata": {},
          "execution_count": 49
        }
      ]
    },
    {
      "cell_type": "markdown",
      "source": [
        "RESTAURANT WITH HIGHEST DELIVERY RATE"
      ],
      "metadata": {
        "id": "CDRD1-Uxy46o"
      }
    },
    {
      "cell_type": "code",
      "source": [
        "max_del_rat = data['Delivery_Rating'].max()"
      ],
      "metadata": {
        "id": "rP4i6iUly-po"
      },
      "execution_count": 50,
      "outputs": []
    },
    {
      "cell_type": "code",
      "source": [
        "data[data['Delivery_Rating']==max_del_rat]"
      ],
      "metadata": {
        "colab": {
          "base_uri": "https://localhost:8080/",
          "height": 1000
        },
        "id": "c8mrV5Dry-fI",
        "outputId": "56f9c7cb-3c19-46f7-f837-1b1bc8232ce5"
      },
      "execution_count": 51,
      "outputs": [
        {
          "output_type": "execute_result",
          "data": {
            "text/plain": [
              "                                                     URL  \\\n",
              "0      https://www.zomato.com/chennai/yaa-mohaideen-b...   \n",
              "1      https://www.zomato.com/chennai/sukkubhai-biriy...   \n",
              "2      https://www.zomato.com/chennai/ss-hyderabad-bi...   \n",
              "3            https://www.zomato.com/chennai/kfc-perambur   \n",
              "4      https://www.zomato.com/chennai/tasty-kitchen-p...   \n",
              "...                                                  ...   \n",
              "11665  https://www.zomato.com/chennai/juice-world-k-k...   \n",
              "11767  https://www.zomato.com/chennai/green-crush-alw...   \n",
              "11792  https://www.zomato.com/chennai/ovo-and-lattee-...   \n",
              "11794  https://www.zomato.com/chennai/that-juice-shop...   \n",
              "11795  https://www.zomato.com/chennai/that-juice-shop...   \n",
              "\n",
              "             Restaurent_Name  \\\n",
              "0      Yaa Mohaideen Briyani   \n",
              "1         Sukkubhai Biriyani   \n",
              "2       SS Hyderabad Biryani   \n",
              "3                        KFC   \n",
              "4              Tasty Kitchen   \n",
              "...                      ...   \n",
              "11665            Juice World   \n",
              "11767            Green Crush   \n",
              "11792         OVO and LATTEE   \n",
              "11794        That Juice Shop   \n",
              "11795        That Juice Shop   \n",
              "\n",
              "                                                 Address     Location  \\\n",
              "0              336 & 338, Main Road, Pallavaram, Chennai   Pallavaram   \n",
              "1       New 14, Old 11/3Q, Railway Station Road, MKN ...      Alandur   \n",
              "2       98/339, Arcot Road, Opposite Gokulam Chit Fun...  Kodambakkam   \n",
              "3       10, Periyar Nagar, 70 Feet Road, Near Sheeba ...     Perambur   \n",
              "4       135B, SRP Colony, Peravallur, Near Perambur, ...     Perambur   \n",
              "...                                                  ...          ...   \n",
              "11665           890, Munusamy Salai, K.K. Nagar, Chennai   K.K. Nagar   \n",
              "11767   114, Waitrose Supermarket, Luz Church Road, N...     Alwarpet   \n",
              "11792   90/131 B, Bharatmatha Street, Poondi Bazaar, ...     Tambaram   \n",
              "11794           7, Gopra OMR Bazaar, Karapakkam, Chennai   Karapakkam   \n",
              "11795   Shop 24, Arunachalam Road, Kumaran Colony, Va...   Vadapalani   \n",
              "\n",
              "                                                 Cuisine  \\\n",
              "0                                            ['Biryani']   \n",
              "1      ['Biryani', ' North Indian', ' Mughlai', ' Des...   \n",
              "2      ['Biryani', ' North Indian', ' Chinese', ' Ara...   \n",
              "3      ['Burger', ' Fast Food', ' Finger Food', ' Bev...   \n",
              "4      ['Chinese', ' Biryani', ' North Indian', ' Che...   \n",
              "...                                                  ...   \n",
              "11665  ['Juices', ' Beverages', ' Sandwich', ' Fast F...   \n",
              "11767                                      ['Beverages']   \n",
              "11792                           ['Bakery', ' Fast Food']   \n",
              "11794                           ['Juices', ' Beverages']   \n",
              "11795                           ['Juices', ' Beverages']   \n",
              "\n",
              "                                              Top_Dishes  Price_For_2_People  \\\n",
              "0      ['Bread Halwa', ' Chicken 65', ' Mutton Biryan...                 500   \n",
              "1      ['Beef Biryani', ' Beef Fry', ' Paratha', ' Pa...                1000   \n",
              "2      ['Brinjal Curry', ' Tandoori Chicken', ' Chick...                 500   \n",
              "3                                      ['Zinger Burger']                 500   \n",
              "4      ['Mutton Biryani', ' Chicken Rice', ' Tomato R...                 450   \n",
              "...                                                  ...                 ...   \n",
              "11665                                            Invalid                 300   \n",
              "11767                                            Invalid                 200   \n",
              "11792                                            Invalid                 400   \n",
              "11794                                            Invalid                 200   \n",
              "11795                                            Invalid                 200   \n",
              "\n",
              "       Dining_Rating  Delivery_Rating  \\\n",
              "0                  4                4   \n",
              "1                  4                4   \n",
              "2                  4                4   \n",
              "3                  4                4   \n",
              "4                  4                4   \n",
              "...              ...              ...   \n",
              "11665              3                4   \n",
              "11767              2                4   \n",
              "11792              2                4   \n",
              "11794              3                4   \n",
              "11795              2                4   \n",
              "\n",
              "                                                Features  \n",
              "0                    ['Home Delivery', 'Indoor Seating']  \n",
              "1      ['Home Delivery', 'Free Parking', 'Table booki...  \n",
              "2                    ['Home Delivery', 'Indoor Seating']  \n",
              "3      ['Home Delivery', 'Free Parking', 'Card Upon D...  \n",
              "4                    ['Home Delivery', 'Indoor Seating']  \n",
              "...                                                  ...  \n",
              "11665  ['Home Delivery', 'Vegetarian Only', 'Indoor S...  \n",
              "11767               ['Home Delivery', 'Vegetarian Only']  \n",
              "11792  ['Home Delivery', 'Indoor Seating', 'Desserts ...  \n",
              "11794                ['Home Delivery', 'Indoor Seating']  \n",
              "11795               ['Home Delivery', 'Standing Tables']  \n",
              "\n",
              "[1927 rows x 10 columns]"
            ],
            "text/html": [
              "\n",
              "  <div id=\"df-6d6c86c4-aaea-4e02-b10b-19f6b89cb230\">\n",
              "    <div class=\"colab-df-container\">\n",
              "      <div>\n",
              "<style scoped>\n",
              "    .dataframe tbody tr th:only-of-type {\n",
              "        vertical-align: middle;\n",
              "    }\n",
              "\n",
              "    .dataframe tbody tr th {\n",
              "        vertical-align: top;\n",
              "    }\n",
              "\n",
              "    .dataframe thead th {\n",
              "        text-align: right;\n",
              "    }\n",
              "</style>\n",
              "<table border=\"1\" class=\"dataframe\">\n",
              "  <thead>\n",
              "    <tr style=\"text-align: right;\">\n",
              "      <th></th>\n",
              "      <th>URL</th>\n",
              "      <th>Restaurent_Name</th>\n",
              "      <th>Address</th>\n",
              "      <th>Location</th>\n",
              "      <th>Cuisine</th>\n",
              "      <th>Top_Dishes</th>\n",
              "      <th>Price_For_2_People</th>\n",
              "      <th>Dining_Rating</th>\n",
              "      <th>Delivery_Rating</th>\n",
              "      <th>Features</th>\n",
              "    </tr>\n",
              "  </thead>\n",
              "  <tbody>\n",
              "    <tr>\n",
              "      <th>0</th>\n",
              "      <td>https://www.zomato.com/chennai/yaa-mohaideen-b...</td>\n",
              "      <td>Yaa Mohaideen Briyani</td>\n",
              "      <td>336 &amp; 338, Main Road, Pallavaram, Chennai</td>\n",
              "      <td>Pallavaram</td>\n",
              "      <td>['Biryani']</td>\n",
              "      <td>['Bread Halwa', ' Chicken 65', ' Mutton Biryan...</td>\n",
              "      <td>500</td>\n",
              "      <td>4</td>\n",
              "      <td>4</td>\n",
              "      <td>['Home Delivery', 'Indoor Seating']</td>\n",
              "    </tr>\n",
              "    <tr>\n",
              "      <th>1</th>\n",
              "      <td>https://www.zomato.com/chennai/sukkubhai-biriy...</td>\n",
              "      <td>Sukkubhai Biriyani</td>\n",
              "      <td>New 14, Old 11/3Q, Railway Station Road, MKN ...</td>\n",
              "      <td>Alandur</td>\n",
              "      <td>['Biryani', ' North Indian', ' Mughlai', ' Des...</td>\n",
              "      <td>['Beef Biryani', ' Beef Fry', ' Paratha', ' Pa...</td>\n",
              "      <td>1000</td>\n",
              "      <td>4</td>\n",
              "      <td>4</td>\n",
              "      <td>['Home Delivery', 'Free Parking', 'Table booki...</td>\n",
              "    </tr>\n",
              "    <tr>\n",
              "      <th>2</th>\n",
              "      <td>https://www.zomato.com/chennai/ss-hyderabad-bi...</td>\n",
              "      <td>SS Hyderabad Biryani</td>\n",
              "      <td>98/339, Arcot Road, Opposite Gokulam Chit Fun...</td>\n",
              "      <td>Kodambakkam</td>\n",
              "      <td>['Biryani', ' North Indian', ' Chinese', ' Ara...</td>\n",
              "      <td>['Brinjal Curry', ' Tandoori Chicken', ' Chick...</td>\n",
              "      <td>500</td>\n",
              "      <td>4</td>\n",
              "      <td>4</td>\n",
              "      <td>['Home Delivery', 'Indoor Seating']</td>\n",
              "    </tr>\n",
              "    <tr>\n",
              "      <th>3</th>\n",
              "      <td>https://www.zomato.com/chennai/kfc-perambur</td>\n",
              "      <td>KFC</td>\n",
              "      <td>10, Periyar Nagar, 70 Feet Road, Near Sheeba ...</td>\n",
              "      <td>Perambur</td>\n",
              "      <td>['Burger', ' Fast Food', ' Finger Food', ' Bev...</td>\n",
              "      <td>['Zinger Burger']</td>\n",
              "      <td>500</td>\n",
              "      <td>4</td>\n",
              "      <td>4</td>\n",
              "      <td>['Home Delivery', 'Free Parking', 'Card Upon D...</td>\n",
              "    </tr>\n",
              "    <tr>\n",
              "      <th>4</th>\n",
              "      <td>https://www.zomato.com/chennai/tasty-kitchen-p...</td>\n",
              "      <td>Tasty Kitchen</td>\n",
              "      <td>135B, SRP Colony, Peravallur, Near Perambur, ...</td>\n",
              "      <td>Perambur</td>\n",
              "      <td>['Chinese', ' Biryani', ' North Indian', ' Che...</td>\n",
              "      <td>['Mutton Biryani', ' Chicken Rice', ' Tomato R...</td>\n",
              "      <td>450</td>\n",
              "      <td>4</td>\n",
              "      <td>4</td>\n",
              "      <td>['Home Delivery', 'Indoor Seating']</td>\n",
              "    </tr>\n",
              "    <tr>\n",
              "      <th>...</th>\n",
              "      <td>...</td>\n",
              "      <td>...</td>\n",
              "      <td>...</td>\n",
              "      <td>...</td>\n",
              "      <td>...</td>\n",
              "      <td>...</td>\n",
              "      <td>...</td>\n",
              "      <td>...</td>\n",
              "      <td>...</td>\n",
              "      <td>...</td>\n",
              "    </tr>\n",
              "    <tr>\n",
              "      <th>11665</th>\n",
              "      <td>https://www.zomato.com/chennai/juice-world-k-k...</td>\n",
              "      <td>Juice World</td>\n",
              "      <td>890, Munusamy Salai, K.K. Nagar, Chennai</td>\n",
              "      <td>K.K. Nagar</td>\n",
              "      <td>['Juices', ' Beverages', ' Sandwich', ' Fast F...</td>\n",
              "      <td>Invalid</td>\n",
              "      <td>300</td>\n",
              "      <td>3</td>\n",
              "      <td>4</td>\n",
              "      <td>['Home Delivery', 'Vegetarian Only', 'Indoor S...</td>\n",
              "    </tr>\n",
              "    <tr>\n",
              "      <th>11767</th>\n",
              "      <td>https://www.zomato.com/chennai/green-crush-alw...</td>\n",
              "      <td>Green Crush</td>\n",
              "      <td>114, Waitrose Supermarket, Luz Church Road, N...</td>\n",
              "      <td>Alwarpet</td>\n",
              "      <td>['Beverages']</td>\n",
              "      <td>Invalid</td>\n",
              "      <td>200</td>\n",
              "      <td>2</td>\n",
              "      <td>4</td>\n",
              "      <td>['Home Delivery', 'Vegetarian Only']</td>\n",
              "    </tr>\n",
              "    <tr>\n",
              "      <th>11792</th>\n",
              "      <td>https://www.zomato.com/chennai/ovo-and-lattee-...</td>\n",
              "      <td>OVO and LATTEE</td>\n",
              "      <td>90/131 B, Bharatmatha Street, Poondi Bazaar, ...</td>\n",
              "      <td>Tambaram</td>\n",
              "      <td>['Bakery', ' Fast Food']</td>\n",
              "      <td>Invalid</td>\n",
              "      <td>400</td>\n",
              "      <td>2</td>\n",
              "      <td>4</td>\n",
              "      <td>['Home Delivery', 'Indoor Seating', 'Desserts ...</td>\n",
              "    </tr>\n",
              "    <tr>\n",
              "      <th>11794</th>\n",
              "      <td>https://www.zomato.com/chennai/that-juice-shop...</td>\n",
              "      <td>That Juice Shop</td>\n",
              "      <td>7, Gopra OMR Bazaar, Karapakkam, Chennai</td>\n",
              "      <td>Karapakkam</td>\n",
              "      <td>['Juices', ' Beverages']</td>\n",
              "      <td>Invalid</td>\n",
              "      <td>200</td>\n",
              "      <td>3</td>\n",
              "      <td>4</td>\n",
              "      <td>['Home Delivery', 'Indoor Seating']</td>\n",
              "    </tr>\n",
              "    <tr>\n",
              "      <th>11795</th>\n",
              "      <td>https://www.zomato.com/chennai/that-juice-shop...</td>\n",
              "      <td>That Juice Shop</td>\n",
              "      <td>Shop 24, Arunachalam Road, Kumaran Colony, Va...</td>\n",
              "      <td>Vadapalani</td>\n",
              "      <td>['Juices', ' Beverages']</td>\n",
              "      <td>Invalid</td>\n",
              "      <td>200</td>\n",
              "      <td>2</td>\n",
              "      <td>4</td>\n",
              "      <td>['Home Delivery', 'Standing Tables']</td>\n",
              "    </tr>\n",
              "  </tbody>\n",
              "</table>\n",
              "<p>1927 rows × 10 columns</p>\n",
              "</div>\n",
              "      <button class=\"colab-df-convert\" onclick=\"convertToInteractive('df-6d6c86c4-aaea-4e02-b10b-19f6b89cb230')\"\n",
              "              title=\"Convert this dataframe to an interactive table.\"\n",
              "              style=\"display:none;\">\n",
              "        \n",
              "  <svg xmlns=\"http://www.w3.org/2000/svg\" height=\"24px\"viewBox=\"0 0 24 24\"\n",
              "       width=\"24px\">\n",
              "    <path d=\"M0 0h24v24H0V0z\" fill=\"none\"/>\n",
              "    <path d=\"M18.56 5.44l.94 2.06.94-2.06 2.06-.94-2.06-.94-.94-2.06-.94 2.06-2.06.94zm-11 1L8.5 8.5l.94-2.06 2.06-.94-2.06-.94L8.5 2.5l-.94 2.06-2.06.94zm10 10l.94 2.06.94-2.06 2.06-.94-2.06-.94-.94-2.06-.94 2.06-2.06.94z\"/><path d=\"M17.41 7.96l-1.37-1.37c-.4-.4-.92-.59-1.43-.59-.52 0-1.04.2-1.43.59L10.3 9.45l-7.72 7.72c-.78.78-.78 2.05 0 2.83L4 21.41c.39.39.9.59 1.41.59.51 0 1.02-.2 1.41-.59l7.78-7.78 2.81-2.81c.8-.78.8-2.07 0-2.86zM5.41 20L4 18.59l7.72-7.72 1.47 1.35L5.41 20z\"/>\n",
              "  </svg>\n",
              "      </button>\n",
              "      \n",
              "  <style>\n",
              "    .colab-df-container {\n",
              "      display:flex;\n",
              "      flex-wrap:wrap;\n",
              "      gap: 12px;\n",
              "    }\n",
              "\n",
              "    .colab-df-convert {\n",
              "      background-color: #E8F0FE;\n",
              "      border: none;\n",
              "      border-radius: 50%;\n",
              "      cursor: pointer;\n",
              "      display: none;\n",
              "      fill: #1967D2;\n",
              "      height: 32px;\n",
              "      padding: 0 0 0 0;\n",
              "      width: 32px;\n",
              "    }\n",
              "\n",
              "    .colab-df-convert:hover {\n",
              "      background-color: #E2EBFA;\n",
              "      box-shadow: 0px 1px 2px rgba(60, 64, 67, 0.3), 0px 1px 3px 1px rgba(60, 64, 67, 0.15);\n",
              "      fill: #174EA6;\n",
              "    }\n",
              "\n",
              "    [theme=dark] .colab-df-convert {\n",
              "      background-color: #3B4455;\n",
              "      fill: #D2E3FC;\n",
              "    }\n",
              "\n",
              "    [theme=dark] .colab-df-convert:hover {\n",
              "      background-color: #434B5C;\n",
              "      box-shadow: 0px 1px 3px 1px rgba(0, 0, 0, 0.15);\n",
              "      filter: drop-shadow(0px 1px 2px rgba(0, 0, 0, 0.3));\n",
              "      fill: #FFFFFF;\n",
              "    }\n",
              "  </style>\n",
              "\n",
              "      <script>\n",
              "        const buttonEl =\n",
              "          document.querySelector('#df-6d6c86c4-aaea-4e02-b10b-19f6b89cb230 button.colab-df-convert');\n",
              "        buttonEl.style.display =\n",
              "          google.colab.kernel.accessAllowed ? 'block' : 'none';\n",
              "\n",
              "        async function convertToInteractive(key) {\n",
              "          const element = document.querySelector('#df-6d6c86c4-aaea-4e02-b10b-19f6b89cb230');\n",
              "          const dataTable =\n",
              "            await google.colab.kernel.invokeFunction('convertToInteractive',\n",
              "                                                     [key], {});\n",
              "          if (!dataTable) return;\n",
              "\n",
              "          const docLinkHtml = 'Like what you see? Visit the ' +\n",
              "            '<a target=\"_blank\" href=https://colab.research.google.com/notebooks/data_table.ipynb>data table notebook</a>'\n",
              "            + ' to learn more about interactive tables.';\n",
              "          element.innerHTML = '';\n",
              "          dataTable['output_type'] = 'display_data';\n",
              "          await google.colab.output.renderOutput(dataTable, element);\n",
              "          const docLink = document.createElement('div');\n",
              "          docLink.innerHTML = docLinkHtml;\n",
              "          element.appendChild(docLink);\n",
              "        }\n",
              "      </script>\n",
              "    </div>\n",
              "  </div>\n",
              "  "
            ]
          },
          "metadata": {},
          "execution_count": 51
        }
      ]
    },
    {
      "cell_type": "markdown",
      "source": [
        "RESTAURANT WITH LOWEST DELIVERY RATE"
      ],
      "metadata": {
        "id": "e1Hm1UxAzIn-"
      }
    },
    {
      "cell_type": "code",
      "source": [
        "min_del_rat = data['Delivery_Rating'].min()"
      ],
      "metadata": {
        "id": "AkEUb8-izMzD"
      },
      "execution_count": 52,
      "outputs": []
    },
    {
      "cell_type": "code",
      "source": [
        "data[data['Delivery_Rating']==min_del_rat]"
      ],
      "metadata": {
        "colab": {
          "base_uri": "https://localhost:8080/",
          "height": 919
        },
        "id": "XDZ_6F2KzP1i",
        "outputId": "e2a9ba95-c96b-445f-8d76-c0b8be5d9961"
      },
      "execution_count": 53,
      "outputs": [
        {
          "output_type": "execute_result",
          "data": {
            "text/plain": [
              "                                                     URL  \\\n",
              "11589  https://www.zomato.com/chennai/the-brooklyn-cr...   \n",
              "11590  https://www.zomato.com/chennai/the-brooklyn-cr...   \n",
              "11592  https://www.zomato.com/chennai/the-brooklyn-cr...   \n",
              "11593  https://www.zomato.com/chennai/the-brooklyn-cr...   \n",
              "11594  https://www.zomato.com/chennai/the-brooklyn-cr...   \n",
              "11595  https://www.zomato.com/chennai/the-brooklyn-cr...   \n",
              "11596  https://www.zomato.com/chennai/the-brooklyn-cr...   \n",
              "11597  https://www.zomato.com/chennai/the-brooklyn-cr...   \n",
              "\n",
              "             Restaurent_Name         Address              Location  \\\n",
              "11589  The Brooklyn Creamery   Delivery Only             Mogappair   \n",
              "11590  The Brooklyn Creamery   Delivery Only      St. Thomas Mount   \n",
              "11592  The Brooklyn Creamery   Delivery Only       Anna Nagar East   \n",
              "11593  The Brooklyn Creamery   Delivery Only                Vepery   \n",
              "11594  The Brooklyn Creamery   Delivery Only            Adambakkam   \n",
              "11595  The Brooklyn Creamery   Delivery Only           Ashok Nagar   \n",
              "11596  The Brooklyn Creamery   Delivery Only                 Porur   \n",
              "11597  The Brooklyn Creamery   Delivery Only  Kanchipuram District   \n",
              "\n",
              "             Cuisine Top_Dishes  Price_For_2_People  Dining_Rating  \\\n",
              "11589  ['Ice Cream']    Invalid                 150              2   \n",
              "11590  ['Ice Cream']    Invalid                 150              2   \n",
              "11592  ['Ice Cream']    Invalid                 150              2   \n",
              "11593  ['Ice Cream']    Invalid                 150              2   \n",
              "11594  ['Ice Cream']    Invalid                 150              2   \n",
              "11595  ['Ice Cream']    Invalid                 150              2   \n",
              "11596  ['Ice Cream']    Invalid                 150              2   \n",
              "11597  ['Ice Cream']    Invalid                 150              2   \n",
              "\n",
              "       Delivery_Rating                                 Features  \n",
              "11589                0  ['Delivery Only', 'Desserts and Bakes']  \n",
              "11590                0  ['Delivery Only', 'Desserts and Bakes']  \n",
              "11592                0  ['Delivery Only', 'Desserts and Bakes']  \n",
              "11593                0  ['Delivery Only', 'Desserts and Bakes']  \n",
              "11594                0  ['Delivery Only', 'Desserts and Bakes']  \n",
              "11595                0  ['Delivery Only', 'Desserts and Bakes']  \n",
              "11596                0  ['Delivery Only', 'Desserts and Bakes']  \n",
              "11597                0  ['Delivery Only', 'Desserts and Bakes']  "
            ],
            "text/html": [
              "\n",
              "  <div id=\"df-443c13cb-dc2c-41c9-b9c2-060538c908bf\">\n",
              "    <div class=\"colab-df-container\">\n",
              "      <div>\n",
              "<style scoped>\n",
              "    .dataframe tbody tr th:only-of-type {\n",
              "        vertical-align: middle;\n",
              "    }\n",
              "\n",
              "    .dataframe tbody tr th {\n",
              "        vertical-align: top;\n",
              "    }\n",
              "\n",
              "    .dataframe thead th {\n",
              "        text-align: right;\n",
              "    }\n",
              "</style>\n",
              "<table border=\"1\" class=\"dataframe\">\n",
              "  <thead>\n",
              "    <tr style=\"text-align: right;\">\n",
              "      <th></th>\n",
              "      <th>URL</th>\n",
              "      <th>Restaurent_Name</th>\n",
              "      <th>Address</th>\n",
              "      <th>Location</th>\n",
              "      <th>Cuisine</th>\n",
              "      <th>Top_Dishes</th>\n",
              "      <th>Price_For_2_People</th>\n",
              "      <th>Dining_Rating</th>\n",
              "      <th>Delivery_Rating</th>\n",
              "      <th>Features</th>\n",
              "    </tr>\n",
              "  </thead>\n",
              "  <tbody>\n",
              "    <tr>\n",
              "      <th>11589</th>\n",
              "      <td>https://www.zomato.com/chennai/the-brooklyn-cr...</td>\n",
              "      <td>The Brooklyn Creamery</td>\n",
              "      <td>Delivery Only</td>\n",
              "      <td>Mogappair</td>\n",
              "      <td>['Ice Cream']</td>\n",
              "      <td>Invalid</td>\n",
              "      <td>150</td>\n",
              "      <td>2</td>\n",
              "      <td>0</td>\n",
              "      <td>['Delivery Only', 'Desserts and Bakes']</td>\n",
              "    </tr>\n",
              "    <tr>\n",
              "      <th>11590</th>\n",
              "      <td>https://www.zomato.com/chennai/the-brooklyn-cr...</td>\n",
              "      <td>The Brooklyn Creamery</td>\n",
              "      <td>Delivery Only</td>\n",
              "      <td>St. Thomas Mount</td>\n",
              "      <td>['Ice Cream']</td>\n",
              "      <td>Invalid</td>\n",
              "      <td>150</td>\n",
              "      <td>2</td>\n",
              "      <td>0</td>\n",
              "      <td>['Delivery Only', 'Desserts and Bakes']</td>\n",
              "    </tr>\n",
              "    <tr>\n",
              "      <th>11592</th>\n",
              "      <td>https://www.zomato.com/chennai/the-brooklyn-cr...</td>\n",
              "      <td>The Brooklyn Creamery</td>\n",
              "      <td>Delivery Only</td>\n",
              "      <td>Anna Nagar East</td>\n",
              "      <td>['Ice Cream']</td>\n",
              "      <td>Invalid</td>\n",
              "      <td>150</td>\n",
              "      <td>2</td>\n",
              "      <td>0</td>\n",
              "      <td>['Delivery Only', 'Desserts and Bakes']</td>\n",
              "    </tr>\n",
              "    <tr>\n",
              "      <th>11593</th>\n",
              "      <td>https://www.zomato.com/chennai/the-brooklyn-cr...</td>\n",
              "      <td>The Brooklyn Creamery</td>\n",
              "      <td>Delivery Only</td>\n",
              "      <td>Vepery</td>\n",
              "      <td>['Ice Cream']</td>\n",
              "      <td>Invalid</td>\n",
              "      <td>150</td>\n",
              "      <td>2</td>\n",
              "      <td>0</td>\n",
              "      <td>['Delivery Only', 'Desserts and Bakes']</td>\n",
              "    </tr>\n",
              "    <tr>\n",
              "      <th>11594</th>\n",
              "      <td>https://www.zomato.com/chennai/the-brooklyn-cr...</td>\n",
              "      <td>The Brooklyn Creamery</td>\n",
              "      <td>Delivery Only</td>\n",
              "      <td>Adambakkam</td>\n",
              "      <td>['Ice Cream']</td>\n",
              "      <td>Invalid</td>\n",
              "      <td>150</td>\n",
              "      <td>2</td>\n",
              "      <td>0</td>\n",
              "      <td>['Delivery Only', 'Desserts and Bakes']</td>\n",
              "    </tr>\n",
              "    <tr>\n",
              "      <th>11595</th>\n",
              "      <td>https://www.zomato.com/chennai/the-brooklyn-cr...</td>\n",
              "      <td>The Brooklyn Creamery</td>\n",
              "      <td>Delivery Only</td>\n",
              "      <td>Ashok Nagar</td>\n",
              "      <td>['Ice Cream']</td>\n",
              "      <td>Invalid</td>\n",
              "      <td>150</td>\n",
              "      <td>2</td>\n",
              "      <td>0</td>\n",
              "      <td>['Delivery Only', 'Desserts and Bakes']</td>\n",
              "    </tr>\n",
              "    <tr>\n",
              "      <th>11596</th>\n",
              "      <td>https://www.zomato.com/chennai/the-brooklyn-cr...</td>\n",
              "      <td>The Brooklyn Creamery</td>\n",
              "      <td>Delivery Only</td>\n",
              "      <td>Porur</td>\n",
              "      <td>['Ice Cream']</td>\n",
              "      <td>Invalid</td>\n",
              "      <td>150</td>\n",
              "      <td>2</td>\n",
              "      <td>0</td>\n",
              "      <td>['Delivery Only', 'Desserts and Bakes']</td>\n",
              "    </tr>\n",
              "    <tr>\n",
              "      <th>11597</th>\n",
              "      <td>https://www.zomato.com/chennai/the-brooklyn-cr...</td>\n",
              "      <td>The Brooklyn Creamery</td>\n",
              "      <td>Delivery Only</td>\n",
              "      <td>Kanchipuram District</td>\n",
              "      <td>['Ice Cream']</td>\n",
              "      <td>Invalid</td>\n",
              "      <td>150</td>\n",
              "      <td>2</td>\n",
              "      <td>0</td>\n",
              "      <td>['Delivery Only', 'Desserts and Bakes']</td>\n",
              "    </tr>\n",
              "  </tbody>\n",
              "</table>\n",
              "</div>\n",
              "      <button class=\"colab-df-convert\" onclick=\"convertToInteractive('df-443c13cb-dc2c-41c9-b9c2-060538c908bf')\"\n",
              "              title=\"Convert this dataframe to an interactive table.\"\n",
              "              style=\"display:none;\">\n",
              "        \n",
              "  <svg xmlns=\"http://www.w3.org/2000/svg\" height=\"24px\"viewBox=\"0 0 24 24\"\n",
              "       width=\"24px\">\n",
              "    <path d=\"M0 0h24v24H0V0z\" fill=\"none\"/>\n",
              "    <path d=\"M18.56 5.44l.94 2.06.94-2.06 2.06-.94-2.06-.94-.94-2.06-.94 2.06-2.06.94zm-11 1L8.5 8.5l.94-2.06 2.06-.94-2.06-.94L8.5 2.5l-.94 2.06-2.06.94zm10 10l.94 2.06.94-2.06 2.06-.94-2.06-.94-.94-2.06-.94 2.06-2.06.94z\"/><path d=\"M17.41 7.96l-1.37-1.37c-.4-.4-.92-.59-1.43-.59-.52 0-1.04.2-1.43.59L10.3 9.45l-7.72 7.72c-.78.78-.78 2.05 0 2.83L4 21.41c.39.39.9.59 1.41.59.51 0 1.02-.2 1.41-.59l7.78-7.78 2.81-2.81c.8-.78.8-2.07 0-2.86zM5.41 20L4 18.59l7.72-7.72 1.47 1.35L5.41 20z\"/>\n",
              "  </svg>\n",
              "      </button>\n",
              "      \n",
              "  <style>\n",
              "    .colab-df-container {\n",
              "      display:flex;\n",
              "      flex-wrap:wrap;\n",
              "      gap: 12px;\n",
              "    }\n",
              "\n",
              "    .colab-df-convert {\n",
              "      background-color: #E8F0FE;\n",
              "      border: none;\n",
              "      border-radius: 50%;\n",
              "      cursor: pointer;\n",
              "      display: none;\n",
              "      fill: #1967D2;\n",
              "      height: 32px;\n",
              "      padding: 0 0 0 0;\n",
              "      width: 32px;\n",
              "    }\n",
              "\n",
              "    .colab-df-convert:hover {\n",
              "      background-color: #E2EBFA;\n",
              "      box-shadow: 0px 1px 2px rgba(60, 64, 67, 0.3), 0px 1px 3px 1px rgba(60, 64, 67, 0.15);\n",
              "      fill: #174EA6;\n",
              "    }\n",
              "\n",
              "    [theme=dark] .colab-df-convert {\n",
              "      background-color: #3B4455;\n",
              "      fill: #D2E3FC;\n",
              "    }\n",
              "\n",
              "    [theme=dark] .colab-df-convert:hover {\n",
              "      background-color: #434B5C;\n",
              "      box-shadow: 0px 1px 3px 1px rgba(0, 0, 0, 0.15);\n",
              "      filter: drop-shadow(0px 1px 2px rgba(0, 0, 0, 0.3));\n",
              "      fill: #FFFFFF;\n",
              "    }\n",
              "  </style>\n",
              "\n",
              "      <script>\n",
              "        const buttonEl =\n",
              "          document.querySelector('#df-443c13cb-dc2c-41c9-b9c2-060538c908bf button.colab-df-convert');\n",
              "        buttonEl.style.display =\n",
              "          google.colab.kernel.accessAllowed ? 'block' : 'none';\n",
              "\n",
              "        async function convertToInteractive(key) {\n",
              "          const element = document.querySelector('#df-443c13cb-dc2c-41c9-b9c2-060538c908bf');\n",
              "          const dataTable =\n",
              "            await google.colab.kernel.invokeFunction('convertToInteractive',\n",
              "                                                     [key], {});\n",
              "          if (!dataTable) return;\n",
              "\n",
              "          const docLinkHtml = 'Like what you see? Visit the ' +\n",
              "            '<a target=\"_blank\" href=https://colab.research.google.com/notebooks/data_table.ipynb>data table notebook</a>'\n",
              "            + ' to learn more about interactive tables.';\n",
              "          element.innerHTML = '';\n",
              "          dataTable['output_type'] = 'display_data';\n",
              "          await google.colab.output.renderOutput(dataTable, element);\n",
              "          const docLink = document.createElement('div');\n",
              "          docLink.innerHTML = docLinkHtml;\n",
              "          element.appendChild(docLink);\n",
              "        }\n",
              "      </script>\n",
              "    </div>\n",
              "  </div>\n",
              "  "
            ]
          },
          "metadata": {},
          "execution_count": 53
        }
      ]
    }
  ]
}